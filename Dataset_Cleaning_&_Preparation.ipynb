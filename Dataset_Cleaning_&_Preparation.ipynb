{
  "cells": [
    {
      "cell_type": "markdown",
      "metadata": {
        "id": "atvb8NNoAEtH"
      },
      "source": [
        "***Data Cleaning ***\n",
        "\n",
        "*ORIGINAL DATASET* :-Vito, S. (2008). Air Quality [Dataset]. UCI Machine Learning Repository. https://doi.org/10.24432/C59K5F."
      ]
    },
    {
      "cell_type": "code",
      "execution_count": 1,
      "metadata": {
        "colab": {
          "base_uri": "https://localhost:8080/"
        },
        "id": "TgxzURqO9zS2",
        "outputId": "e9eb93d6-b3c0-43fd-8551-80d29df61a28",
        "vscode": {
          "languageId": "r"
        }
      },
      "outputs": [
        {
          "name": "stderr",
          "output_type": "stream",
          "text": [
            "Installing package into ‘/usr/local/lib/R/site-library’\n",
            "(as ‘lib’ is unspecified)\n",
            "\n",
            "also installing the dependencies ‘mnormt’, ‘GPArotation’\n",
            "\n",
            "\n",
            "Installing package into ‘/usr/local/lib/R/site-library’\n",
            "(as ‘lib’ is unspecified)\n",
            "\n",
            "also installing the dependencies ‘litedown’, ‘xts’, ‘TTR’, ‘markdown’, ‘png’, ‘jpeg’, ‘quadprog’, ‘quantmod’, ‘gridtext’, ‘fracdiff’, ‘lmtest’, ‘timeDate’, ‘tseries’, ‘urca’, ‘zoo’, ‘RcppArmadillo’, ‘ggtext’, ‘stinepack’, ‘forecast’\n",
            "\n",
            "\n"
          ]
        }
      ],
      "source": [
        "install.packages(\"psych\")\n",
        "install.packages(\"imputeTS\")\n"
      ]
    },
    {
      "cell_type": "code",
      "execution_count": null,
      "metadata": {
        "colab": {
          "base_uri": "https://localhost:8080/"
        },
        "id": "BU0si_dL-Bnj",
        "outputId": "0c22c33e-2496-481b-e07a-95b017a1d0b0",
        "vscode": {
          "languageId": "r"
        }
      },
      "outputs": [
        {
          "name": "stderr",
          "output_type": "stream",
          "text": [
            "\n",
            "Attaching package: ‘dplyr’\n",
            "\n",
            "\n",
            "The following objects are masked from ‘package:stats’:\n",
            "\n",
            "    filter, lag\n",
            "\n",
            "\n",
            "The following objects are masked from ‘package:base’:\n",
            "\n",
            "    intersect, setdiff, setequal, union\n",
            "\n",
            "\n",
            "── \u001b[1mAttaching core tidyverse packages\u001b[22m ──────────────────────── tidyverse 2.0.0 ──\n",
            "\u001b[32m✔\u001b[39m \u001b[34mforcats  \u001b[39m 1.0.0     \u001b[32m✔\u001b[39m \u001b[34mstringr  \u001b[39m 1.5.1\n",
            "\u001b[32m✔\u001b[39m \u001b[34mlubridate\u001b[39m 1.9.4     \u001b[32m✔\u001b[39m \u001b[34mtibble   \u001b[39m 3.2.1\n",
            "\u001b[32m✔\u001b[39m \u001b[34mpurrr    \u001b[39m 1.0.4     \u001b[32m✔\u001b[39m \u001b[34mtidyr    \u001b[39m 1.3.1\n",
            "── \u001b[1mConflicts\u001b[22m ────────────────────────────────────────── tidyverse_conflicts() ──\n",
            "\u001b[31m✖\u001b[39m \u001b[34mdplyr\u001b[39m::\u001b[32mfilter()\u001b[39m masks \u001b[34mstats\u001b[39m::filter()\n",
            "\u001b[31m✖\u001b[39m \u001b[34mdplyr\u001b[39m::\u001b[32mlag()\u001b[39m    masks \u001b[34mstats\u001b[39m::lag()\n",
            "\u001b[36mℹ\u001b[39m Use the conflicted package (\u001b[3m\u001b[34m<http://conflicted.r-lib.org/>\u001b[39m\u001b[23m) to force all conflicts to become errors\n",
            "\n",
            "Attaching package: ‘psych’\n",
            "\n",
            "\n",
            "The following objects are masked from ‘package:ggplot2’:\n",
            "\n",
            "    %+%, alpha\n",
            "\n",
            "\n",
            "Registered S3 method overwritten by 'quantmod':\n",
            "  method            from\n",
            "  as.zoo.data.frame zoo \n",
            "\n"
          ]
        }
      ],
      "source": [
        "library(dplyr)  # For data manipulation\n",
        "library(readr)  # For reading CSV files\n",
        "library(ggplot2)  # For visualization \n",
        "library(tidyverse)\n",
        "library(psych)\n",
        "library(imputeTS)"
      ]
    },
    {
      "cell_type": "code",
      "execution_count": null,
      "metadata": {
        "id": "kJMJV1jS-TVS",
        "vscode": {
          "languageId": "r"
        }
      },
      "outputs": [],
      "source": [
        "# Read the CSV file (update with correct path)\n",
        "\n",
        "df <- readxl::read_excel(\"AirQualityUCI.xlsx\")\n",
        "\n",
        "df <- df[, !(names(df) %in% c(\"X\", \"X.1\"))]"
      ]
    },
    {
      "cell_type": "code",
      "execution_count": 4,
      "metadata": {
        "colab": {
          "base_uri": "https://localhost:8080/"
        },
        "id": "tyLthyD1-p-v",
        "outputId": "eee288e7-4b50-4062-9fd6-0da25a80c914",
        "vscode": {
          "languageId": "r"
        }
      },
      "outputs": [
        {
          "name": "stdout",
          "output_type": "stream",
          "text": [
            "tibble [9,357 × 15] (S3: tbl_df/tbl/data.frame)\n",
            " $ Date         : POSIXct[1:9357], format: \"2004-03-10\" \"2004-03-10\" ...\n",
            " $ Time         : POSIXct[1:9357], format: \"1899-12-31 18:00:00\" \"1899-12-31 19:00:00\" ...\n",
            " $ CO(GT)       : num [1:9357] 2.6 2 2.2 2.2 1.6 1.2 1.2 1 0.9 0.6 ...\n",
            " $ PT08.S1(CO)  : num [1:9357] 1360 1292 1402 1376 1272 ...\n",
            " $ NMHC(GT)     : num [1:9357] 150 112 88 80 51 38 31 31 24 19 ...\n",
            " $ C6H6(GT)     : num [1:9357] 11.88 9.4 9 9.23 6.52 ...\n",
            " $ PT08.S2(NMHC): num [1:9357] 1046 955 939 948 836 ...\n",
            " $ NOx(GT)      : num [1:9357] 166 103 131 172 131 89 62 62 45 -200 ...\n",
            " $ PT08.S3(NOx) : num [1:9357] 1056 1174 1140 1092 1205 ...\n",
            " $ NO2(GT)      : num [1:9357] 113 92 114 122 116 96 77 76 60 -200 ...\n",
            " $ PT08.S4(NO2) : num [1:9357] 1692 1559 1554 1584 1490 ...\n",
            " $ PT08.S5(O3)  : num [1:9357] 1268 972 1074 1203 1110 ...\n",
            " $ T            : num [1:9357] 13.6 13.3 11.9 11 11.2 ...\n",
            " $ RH           : num [1:9357] 48.9 47.7 54 60 59.6 ...\n",
            " $ AH           : num [1:9357] 0.758 0.725 0.75 0.787 0.789 ...\n"
          ]
        }
      ],
      "source": [
        "# Check if the update was successful\n",
        "str(df)"
      ]
    },
    {
      "cell_type": "code",
      "execution_count": 5,
      "metadata": {
        "colab": {
          "base_uri": "https://localhost:8080/",
          "height": 360
        },
        "id": "mslVPl6B-sij",
        "outputId": "4f7538d4-b6b3-44cd-9cc9-200281a36f75",
        "vscode": {
          "languageId": "r"
        }
      },
      "outputs": [
        {
          "name": "stdout",
          "output_type": "stream",
          "text": [
            " [1] \"Date\"          \"Time\"          \"CO(GT)\"        \"PT08_S1(CO)\"  \n",
            " [5] \"NMHC(GT)\"      \"C6H6(GT)\"      \"PT08_S2(NMHC)\" \"NOx(GT)\"      \n",
            " [9] \"PT08_S3(NOx)\"  \"NO2(GT)\"       \"PT08_S4(NO2)\"  \"PT08_S5(O3)\"  \n",
            "[13] \"T\"             \"RH\"            \"AH\"           \n"
          ]
        },
        {
          "data": {
            "text/html": [
              "<table class=\"dataframe\">\n",
              "<caption>A tibble: 6 × 15</caption>\n",
              "<thead>\n",
              "\t<tr><th scope=col>Date</th><th scope=col>Time</th><th scope=col>CO(GT)</th><th scope=col>PT08_S1(CO)</th><th scope=col>NMHC(GT)</th><th scope=col>C6H6(GT)</th><th scope=col>PT08_S2(NMHC)</th><th scope=col>NOx(GT)</th><th scope=col>PT08_S3(NOx)</th><th scope=col>NO2(GT)</th><th scope=col>PT08_S4(NO2)</th><th scope=col>PT08_S5(O3)</th><th scope=col>T</th><th scope=col>RH</th><th scope=col>AH</th></tr>\n",
              "\t<tr><th scope=col>&lt;dttm&gt;</th><th scope=col>&lt;dttm&gt;</th><th scope=col>&lt;dbl&gt;</th><th scope=col>&lt;dbl&gt;</th><th scope=col>&lt;dbl&gt;</th><th scope=col>&lt;dbl&gt;</th><th scope=col>&lt;dbl&gt;</th><th scope=col>&lt;dbl&gt;</th><th scope=col>&lt;dbl&gt;</th><th scope=col>&lt;dbl&gt;</th><th scope=col>&lt;dbl&gt;</th><th scope=col>&lt;dbl&gt;</th><th scope=col>&lt;dbl&gt;</th><th scope=col>&lt;dbl&gt;</th><th scope=col>&lt;dbl&gt;</th></tr>\n",
              "</thead>\n",
              "<tbody>\n",
              "\t<tr><td>2004-03-10</td><td>1899-12-31 18:00:00</td><td>2.6</td><td>1360.00</td><td>150</td><td>11.881723</td><td>1045.50</td><td>166</td><td>1056.25</td><td>113</td><td>1692.00</td><td>1267.50</td><td>13.600</td><td>48.875</td><td>0.7577538</td></tr>\n",
              "\t<tr><td>2004-03-10</td><td>1899-12-31 19:00:00</td><td>2.0</td><td>1292.25</td><td>112</td><td> 9.397165</td><td> 954.75</td><td>103</td><td>1173.75</td><td> 92</td><td>1558.75</td><td> 972.25</td><td>13.300</td><td>47.700</td><td>0.7254874</td></tr>\n",
              "\t<tr><td>2004-03-10</td><td>1899-12-31 20:00:00</td><td>2.2</td><td>1402.00</td><td> 88</td><td> 8.997817</td><td> 939.25</td><td>131</td><td>1140.00</td><td>114</td><td>1554.50</td><td>1074.00</td><td>11.900</td><td>53.975</td><td>0.7502391</td></tr>\n",
              "\t<tr><td>2004-03-10</td><td>1899-12-31 21:00:00</td><td>2.2</td><td>1375.50</td><td> 80</td><td> 9.228796</td><td> 948.25</td><td>172</td><td>1092.00</td><td>122</td><td>1583.75</td><td>1203.25</td><td>11.000</td><td>60.000</td><td>0.7867125</td></tr>\n",
              "\t<tr><td>2004-03-10</td><td>1899-12-31 22:00:00</td><td>1.6</td><td>1272.25</td><td> 51</td><td> 6.518224</td><td> 835.50</td><td>131</td><td>1205.00</td><td>116</td><td>1490.00</td><td>1110.00</td><td>11.150</td><td>59.575</td><td>0.7887942</td></tr>\n",
              "\t<tr><td>2004-03-10</td><td>1899-12-31 23:00:00</td><td>1.2</td><td>1197.00</td><td> 38</td><td> 4.741012</td><td> 750.25</td><td> 89</td><td>1336.50</td><td> 96</td><td>1393.00</td><td> 949.25</td><td>11.175</td><td>59.175</td><td>0.7847717</td></tr>\n",
              "</tbody>\n",
              "</table>\n"
            ],
            "text/latex": [
              "A tibble: 6 × 15\n",
              "\\begin{tabular}{lllllllllllllll}\n",
              " Date & Time & CO(GT) & PT08\\_S1(CO) & NMHC(GT) & C6H6(GT) & PT08\\_S2(NMHC) & NOx(GT) & PT08\\_S3(NOx) & NO2(GT) & PT08\\_S4(NO2) & PT08\\_S5(O3) & T & RH & AH\\\\\n",
              " <dttm> & <dttm> & <dbl> & <dbl> & <dbl> & <dbl> & <dbl> & <dbl> & <dbl> & <dbl> & <dbl> & <dbl> & <dbl> & <dbl> & <dbl>\\\\\n",
              "\\hline\n",
              "\t 2004-03-10 & 1899-12-31 18:00:00 & 2.6 & 1360.00 & 150 & 11.881723 & 1045.50 & 166 & 1056.25 & 113 & 1692.00 & 1267.50 & 13.600 & 48.875 & 0.7577538\\\\\n",
              "\t 2004-03-10 & 1899-12-31 19:00:00 & 2.0 & 1292.25 & 112 &  9.397165 &  954.75 & 103 & 1173.75 &  92 & 1558.75 &  972.25 & 13.300 & 47.700 & 0.7254874\\\\\n",
              "\t 2004-03-10 & 1899-12-31 20:00:00 & 2.2 & 1402.00 &  88 &  8.997817 &  939.25 & 131 & 1140.00 & 114 & 1554.50 & 1074.00 & 11.900 & 53.975 & 0.7502391\\\\\n",
              "\t 2004-03-10 & 1899-12-31 21:00:00 & 2.2 & 1375.50 &  80 &  9.228796 &  948.25 & 172 & 1092.00 & 122 & 1583.75 & 1203.25 & 11.000 & 60.000 & 0.7867125\\\\\n",
              "\t 2004-03-10 & 1899-12-31 22:00:00 & 1.6 & 1272.25 &  51 &  6.518224 &  835.50 & 131 & 1205.00 & 116 & 1490.00 & 1110.00 & 11.150 & 59.575 & 0.7887942\\\\\n",
              "\t 2004-03-10 & 1899-12-31 23:00:00 & 1.2 & 1197.00 &  38 &  4.741012 &  750.25 &  89 & 1336.50 &  96 & 1393.00 &  949.25 & 11.175 & 59.175 & 0.7847717\\\\\n",
              "\\end{tabular}\n"
            ],
            "text/markdown": [
              "\n",
              "A tibble: 6 × 15\n",
              "\n",
              "| Date &lt;dttm&gt; | Time &lt;dttm&gt; | CO(GT) &lt;dbl&gt; | PT08_S1(CO) &lt;dbl&gt; | NMHC(GT) &lt;dbl&gt; | C6H6(GT) &lt;dbl&gt; | PT08_S2(NMHC) &lt;dbl&gt; | NOx(GT) &lt;dbl&gt; | PT08_S3(NOx) &lt;dbl&gt; | NO2(GT) &lt;dbl&gt; | PT08_S4(NO2) &lt;dbl&gt; | PT08_S5(O3) &lt;dbl&gt; | T &lt;dbl&gt; | RH &lt;dbl&gt; | AH &lt;dbl&gt; |\n",
              "|---|---|---|---|---|---|---|---|---|---|---|---|---|---|---|\n",
              "| 2004-03-10 | 1899-12-31 18:00:00 | 2.6 | 1360.00 | 150 | 11.881723 | 1045.50 | 166 | 1056.25 | 113 | 1692.00 | 1267.50 | 13.600 | 48.875 | 0.7577538 |\n",
              "| 2004-03-10 | 1899-12-31 19:00:00 | 2.0 | 1292.25 | 112 |  9.397165 |  954.75 | 103 | 1173.75 |  92 | 1558.75 |  972.25 | 13.300 | 47.700 | 0.7254874 |\n",
              "| 2004-03-10 | 1899-12-31 20:00:00 | 2.2 | 1402.00 |  88 |  8.997817 |  939.25 | 131 | 1140.00 | 114 | 1554.50 | 1074.00 | 11.900 | 53.975 | 0.7502391 |\n",
              "| 2004-03-10 | 1899-12-31 21:00:00 | 2.2 | 1375.50 |  80 |  9.228796 |  948.25 | 172 | 1092.00 | 122 | 1583.75 | 1203.25 | 11.000 | 60.000 | 0.7867125 |\n",
              "| 2004-03-10 | 1899-12-31 22:00:00 | 1.6 | 1272.25 |  51 |  6.518224 |  835.50 | 131 | 1205.00 | 116 | 1490.00 | 1110.00 | 11.150 | 59.575 | 0.7887942 |\n",
              "| 2004-03-10 | 1899-12-31 23:00:00 | 1.2 | 1197.00 |  38 |  4.741012 |  750.25 |  89 | 1336.50 |  96 | 1393.00 |  949.25 | 11.175 | 59.175 | 0.7847717 |\n",
              "\n"
            ],
            "text/plain": [
              "  Date       Time                CO(GT) PT08_S1(CO) NMHC(GT) C6H6(GT) \n",
              "1 2004-03-10 1899-12-31 18:00:00 2.6    1360.00     150      11.881723\n",
              "2 2004-03-10 1899-12-31 19:00:00 2.0    1292.25     112       9.397165\n",
              "3 2004-03-10 1899-12-31 20:00:00 2.2    1402.00      88       8.997817\n",
              "4 2004-03-10 1899-12-31 21:00:00 2.2    1375.50      80       9.228796\n",
              "5 2004-03-10 1899-12-31 22:00:00 1.6    1272.25      51       6.518224\n",
              "6 2004-03-10 1899-12-31 23:00:00 1.2    1197.00      38       4.741012\n",
              "  PT08_S2(NMHC) NOx(GT) PT08_S3(NOx) NO2(GT) PT08_S4(NO2) PT08_S5(O3) T     \n",
              "1 1045.50       166     1056.25      113     1692.00      1267.50     13.600\n",
              "2  954.75       103     1173.75       92     1558.75       972.25     13.300\n",
              "3  939.25       131     1140.00      114     1554.50      1074.00     11.900\n",
              "4  948.25       172     1092.00      122     1583.75      1203.25     11.000\n",
              "5  835.50       131     1205.00      116     1490.00      1110.00     11.150\n",
              "6  750.25        89     1336.50       96     1393.00       949.25     11.175\n",
              "  RH     AH       \n",
              "1 48.875 0.7577538\n",
              "2 47.700 0.7254874\n",
              "3 53.975 0.7502391\n",
              "4 60.000 0.7867125\n",
              "5 59.575 0.7887942\n",
              "6 59.175 0.7847717"
            ]
          },
          "metadata": {},
          "output_type": "display_data"
        }
      ],
      "source": [
        "# Function to clean column names\n",
        "clean_col_names <- function(col_names) {\n",
        "  col_names <- gsub(\"\\\\.$\", \"\", col_names)  # Remove trailing dots\n",
        "  col_names <- gsub(\"\\\\.\", \"_\", col_names)  # Replace middle dots with underscores\n",
        "  return(col_names)\n",
        "}\n",
        "\n",
        "# Apply function to column names\n",
        "colnames(df) <- clean_col_names(colnames(df))\n",
        "\n",
        "# Check updated column names\n",
        "print(colnames(df))\n",
        "\n",
        "head(df)"
      ]
    },
    {
      "cell_type": "code",
      "execution_count": 6,
      "metadata": {
        "id": "BbBHHQTL-1sP",
        "vscode": {
          "languageId": "r"
        }
      },
      "outputs": [],
      "source": [
        "# Define a function to replace values\n",
        "replaceValues <- function(df, value1, value2) {\n",
        "  df[df == value1] <- value2  # Replace all occurrences of value1 with value2\n",
        "  return(df)\n",
        "}\n",
        "\n",
        "# Copy original dataframe\n",
        "df2 <- df\n",
        "\n",
        "# Replace -200 with NA (null values)\n",
        "df <- replaceValues(df2, -200, NA)"
      ]
    },
    {
      "cell_type": "code",
      "execution_count": null,
      "metadata": {
        "colab": {
          "base_uri": "https://localhost:8080/"
        },
        "id": "x3xvyGC7-7wX",
        "outputId": "49a49686-62eb-4365-a12b-a9bef36f26fa",
        "vscode": {
          "languageId": "r"
        }
      },
      "outputs": [
        {
          "name": "stdout",
          "output_type": "stream",
          "text": [
            "Date: 0  \n",
            "Time: 0  \n",
            "CO(GT): 1683  \n",
            "PT08_S1(CO): 366  \n",
            "NMHC(GT): 8443  \n",
            "C6H6(GT): 366  \n",
            "PT08_S2(NMHC): 366  \n",
            "NOx(GT): 1639  \n",
            "PT08_S3(NOx): 366  \n",
            "NO2(GT): 1642  \n",
            "PT08_S4(NO2): 366  \n",
            "PT08_S5(O3): 366  \n",
            "T: 366  \n",
            "RH: 366  \n",
            "AH: 366  \n"
          ]
        }
      ],
      "source": [
        "# Function to print missing value counts with column names\n",
        "print_missing_counts <- function(data) {\n",
        "  missing_counts <- colSums(is.na(data))\n",
        "\n",
        "  # Print column name and count on the same line\n",
        "  for (i in seq_along(missing_counts)) {\n",
        "    cat(sprintf(\"%s: %d \", names(missing_counts)[i], missing_counts[i]), \"\\n\")\n",
        "  }\n",
        "}\n",
        "\n",
        "print_missing_counts(df)  "
      ]
    },
    {
      "cell_type": "code",
      "execution_count": 8,
      "metadata": {
        "id": "hInRPQU1-92q",
        "vscode": {
          "languageId": "r"
        }
      },
      "outputs": [],
      "source": [
        "# Column NMHC_GT has 8443 missing values, so we can drop that column\n",
        "df <- df[, !(names(df) %in% c(\"NMHC(GT)\"))]"
      ]
    },
    {
      "cell_type": "code",
      "execution_count": 9,
      "metadata": {
        "colab": {
          "base_uri": "https://localhost:8080/",
          "height": 684
        },
        "id": "9oAp9OfY_Adb",
        "outputId": "d25a9ab7-432d-4299-9c90-e0727926605b",
        "vscode": {
          "languageId": "r"
        }
      },
      "outputs": [
        {
          "name": "stderr",
          "output_type": "stream",
          "text": [
            "Warning message in FUN(newX[, i], ...):\n",
            "“no non-missing arguments to min; returning Inf”\n",
            "Warning message in FUN(newX[, i], ...):\n",
            "“no non-missing arguments to min; returning Inf”\n",
            "Warning message in FUN(newX[, i], ...):\n",
            "“no non-missing arguments to max; returning -Inf”\n",
            "Warning message in FUN(newX[, i], ...):\n",
            "“no non-missing arguments to max; returning -Inf”\n"
          ]
        },
        {
          "data": {
            "text/html": [
              "<table class=\"dataframe\">\n",
              "<caption>A psych: 14 × 13</caption>\n",
              "<thead>\n",
              "\t<tr><th></th><th scope=col>vars</th><th scope=col>n</th><th scope=col>mean</th><th scope=col>sd</th><th scope=col>median</th><th scope=col>trimmed</th><th scope=col>mad</th><th scope=col>min</th><th scope=col>max</th><th scope=col>range</th><th scope=col>skew</th><th scope=col>kurtosis</th><th scope=col>se</th></tr>\n",
              "\t<tr><th></th><th scope=col>&lt;int&gt;</th><th scope=col>&lt;dbl&gt;</th><th scope=col>&lt;dbl&gt;</th><th scope=col>&lt;dbl&gt;</th><th scope=col>&lt;dbl&gt;</th><th scope=col>&lt;dbl&gt;</th><th scope=col>&lt;dbl&gt;</th><th scope=col>&lt;dbl&gt;</th><th scope=col>&lt;dbl&gt;</th><th scope=col>&lt;dbl&gt;</th><th scope=col>&lt;dbl&gt;</th><th scope=col>&lt;dbl&gt;</th><th scope=col>&lt;dbl&gt;</th></tr>\n",
              "</thead>\n",
              "<tbody>\n",
              "\t<tr><th scope=row>Date</th><td> 1</td><td>9357</td><td>       NaN</td><td>         NA</td><td>          NA</td><td>        NaN</td><td>         NA</td><td>        Inf</td><td>       -Inf</td><td>       -Inf</td><td>         NA</td><td>         NA</td><td>         NA</td></tr>\n",
              "\t<tr><th scope=row>Time</th><td> 2</td><td>9357</td><td>       NaN</td><td>         NA</td><td>          NA</td><td>        NaN</td><td>         NA</td><td>        Inf</td><td>       -Inf</td><td>       -Inf</td><td>         NA</td><td>         NA</td><td>         NA</td></tr>\n",
              "\t<tr><th scope=row>CO(GT)</th><td> 3</td><td>7674</td><td>   2.15275</td><td>  1.4532520</td><td>   1.8000000</td><td>   1.970586</td><td>  1.1860800</td><td>  0.1000000</td><td>  11.900000</td><td>  11.800000</td><td> 1.36921735</td><td> 2.66378335</td><td>0.016589376</td></tr>\n",
              "\t<tr><th scope=row>PT08_S1(CO)</th><td> 4</td><td>8991</td><td>1099.70786</td><td>217.0845706</td><td>1063.0000000</td><td>1082.075050</td><td>210.1585500</td><td>647.2500000</td><td>2039.750000</td><td>1392.500000</td><td> 0.75568085</td><td> 0.33329121</td><td>2.289417289</td></tr>\n",
              "\t<tr><th scope=row>C6H6(GT)</th><td> 5</td><td>8991</td><td>  10.08299</td><td>  7.4496399</td><td>   8.2398514</td><td>   9.111130</td><td>  6.5438919</td><td>  0.1490477</td><td>  63.741476</td><td>  63.592429</td><td> 1.36102621</td><td> 2.48508411</td><td>0.078565392</td></tr>\n",
              "\t<tr><th scope=row>PT08_S2(NMHC)</th><td> 6</td><td>8991</td><td> 939.02921</td><td>266.8290003</td><td> 909.0000000</td><td> 923.106180</td><td>278.7288000</td><td>383.2500000</td><td>2214.000000</td><td>1830.750000</td><td> 0.56142414</td><td> 0.06212149</td><td>2.814031990</td></tr>\n",
              "\t<tr><th scope=row>NOx(GT)</th><td> 7</td><td>7718</td><td> 246.88125</td><td>212.9712238</td><td> 179.8000000</td><td> 211.238731</td><td>148.4082600</td><td>  2.0000000</td><td>1479.000000</td><td>1477.000000</td><td> 1.71517474</td><td> 3.39781304</td><td>2.424200516</td></tr>\n",
              "\t<tr><th scope=row>PT08_S3(NOx)</th><td> 8</td><td>8991</td><td> 835.37097</td><td>256.8151061</td><td> 805.5000000</td><td> 814.562850</td><td>229.4323500</td><td>322.0000000</td><td>2682.750000</td><td>2360.750000</td><td> 1.10134283</td><td> 2.67404086</td><td>2.708423460</td></tr>\n",
              "\t<tr><th scope=row>NO2(GT)</th><td> 9</td><td>7715</td><td> 113.07552</td><td> 48.3592501</td><td> 109.0000000</td><td> 110.162174</td><td> 47.4432000</td><td>  2.0000000</td><td> 339.700000</td><td> 337.700000</td><td> 0.62116610</td><td> 0.46210832</td><td>0.550568795</td></tr>\n",
              "\t<tr><th scope=row>PT08_S4(NO2)</th><td>10</td><td>8991</td><td>1456.14349</td><td>346.2045404</td><td>1462.7500000</td><td>1450.783540</td><td>328.0252500</td><td>551.0000000</td><td>2775.000000</td><td>2224.000000</td><td> 0.20529364</td><td> 0.07659571</td><td>3.651142308</td></tr>\n",
              "\t<tr><th scope=row>PT08_S5(O3)</th><td>11</td><td>8991</td><td>1022.78073</td><td>398.4808967</td><td> 963.2500000</td><td> 996.109192</td><td>388.0705500</td><td>221.0000000</td><td>2522.750000</td><td>2301.750000</td><td> 0.62765289</td><td> 0.07714606</td><td>4.202459214</td></tr>\n",
              "\t<tr><th scope=row>T</th><td>12</td><td>8991</td><td>  18.31605</td><td>  8.8328880</td><td>  17.7500000</td><td>  17.977040</td><td>  9.3033151</td><td> -1.9000000</td><td>  44.600000</td><td>  46.500000</td><td> 0.30919864</td><td>-0.45772919</td><td>0.093153403</td></tr>\n",
              "\t<tr><th scope=row>RH</th><td>13</td><td>8991</td><td>  49.23236</td><td> 17.3163893</td><td>  49.5500002</td><td>  49.288359</td><td> 19.7185803</td><td>  9.1750002</td><td>  88.725000</td><td>  79.550000</td><td>-0.03796154</td><td>-0.81919595</td><td>0.182622104</td></tr>\n",
              "\t<tr><th scope=row>AH</th><td>14</td><td>8991</td><td>   1.02553</td><td>  0.4038129</td><td>   0.9953952</td><td>   1.014298</td><td>  0.4241067</td><td>  0.1846790</td><td>   2.231036</td><td>   2.046357</td><td> 0.25130367</td><td>-0.56099423</td><td>0.004258692</td></tr>\n",
              "</tbody>\n",
              "</table>\n"
            ],
            "text/latex": [
              "A psych: 14 × 13\n",
              "\\begin{tabular}{r|lllllllllllll}\n",
              "  & vars & n & mean & sd & median & trimmed & mad & min & max & range & skew & kurtosis & se\\\\\n",
              "  & <int> & <dbl> & <dbl> & <dbl> & <dbl> & <dbl> & <dbl> & <dbl> & <dbl> & <dbl> & <dbl> & <dbl> & <dbl>\\\\\n",
              "\\hline\n",
              "\tDate &  1 & 9357 &        NaN &          NA &           NA &         NaN &          NA &         Inf &        -Inf &        -Inf &          NA &          NA &          NA\\\\\n",
              "\tTime &  2 & 9357 &        NaN &          NA &           NA &         NaN &          NA &         Inf &        -Inf &        -Inf &          NA &          NA &          NA\\\\\n",
              "\tCO(GT) &  3 & 7674 &    2.15275 &   1.4532520 &    1.8000000 &    1.970586 &   1.1860800 &   0.1000000 &   11.900000 &   11.800000 &  1.36921735 &  2.66378335 & 0.016589376\\\\\n",
              "\tPT08\\_S1(CO) &  4 & 8991 & 1099.70786 & 217.0845706 & 1063.0000000 & 1082.075050 & 210.1585500 & 647.2500000 & 2039.750000 & 1392.500000 &  0.75568085 &  0.33329121 & 2.289417289\\\\\n",
              "\tC6H6(GT) &  5 & 8991 &   10.08299 &   7.4496399 &    8.2398514 &    9.111130 &   6.5438919 &   0.1490477 &   63.741476 &   63.592429 &  1.36102621 &  2.48508411 & 0.078565392\\\\\n",
              "\tPT08\\_S2(NMHC) &  6 & 8991 &  939.02921 & 266.8290003 &  909.0000000 &  923.106180 & 278.7288000 & 383.2500000 & 2214.000000 & 1830.750000 &  0.56142414 &  0.06212149 & 2.814031990\\\\\n",
              "\tNOx(GT) &  7 & 7718 &  246.88125 & 212.9712238 &  179.8000000 &  211.238731 & 148.4082600 &   2.0000000 & 1479.000000 & 1477.000000 &  1.71517474 &  3.39781304 & 2.424200516\\\\\n",
              "\tPT08\\_S3(NOx) &  8 & 8991 &  835.37097 & 256.8151061 &  805.5000000 &  814.562850 & 229.4323500 & 322.0000000 & 2682.750000 & 2360.750000 &  1.10134283 &  2.67404086 & 2.708423460\\\\\n",
              "\tNO2(GT) &  9 & 7715 &  113.07552 &  48.3592501 &  109.0000000 &  110.162174 &  47.4432000 &   2.0000000 &  339.700000 &  337.700000 &  0.62116610 &  0.46210832 & 0.550568795\\\\\n",
              "\tPT08\\_S4(NO2) & 10 & 8991 & 1456.14349 & 346.2045404 & 1462.7500000 & 1450.783540 & 328.0252500 & 551.0000000 & 2775.000000 & 2224.000000 &  0.20529364 &  0.07659571 & 3.651142308\\\\\n",
              "\tPT08\\_S5(O3) & 11 & 8991 & 1022.78073 & 398.4808967 &  963.2500000 &  996.109192 & 388.0705500 & 221.0000000 & 2522.750000 & 2301.750000 &  0.62765289 &  0.07714606 & 4.202459214\\\\\n",
              "\tT & 12 & 8991 &   18.31605 &   8.8328880 &   17.7500000 &   17.977040 &   9.3033151 &  -1.9000000 &   44.600000 &   46.500000 &  0.30919864 & -0.45772919 & 0.093153403\\\\\n",
              "\tRH & 13 & 8991 &   49.23236 &  17.3163893 &   49.5500002 &   49.288359 &  19.7185803 &   9.1750002 &   88.725000 &   79.550000 & -0.03796154 & -0.81919595 & 0.182622104\\\\\n",
              "\tAH & 14 & 8991 &    1.02553 &   0.4038129 &    0.9953952 &    1.014298 &   0.4241067 &   0.1846790 &    2.231036 &    2.046357 &  0.25130367 & -0.56099423 & 0.004258692\\\\\n",
              "\\end{tabular}\n"
            ],
            "text/markdown": [
              "\n",
              "A psych: 14 × 13\n",
              "\n",
              "| <!--/--> | vars &lt;int&gt; | n &lt;dbl&gt; | mean &lt;dbl&gt; | sd &lt;dbl&gt; | median &lt;dbl&gt; | trimmed &lt;dbl&gt; | mad &lt;dbl&gt; | min &lt;dbl&gt; | max &lt;dbl&gt; | range &lt;dbl&gt; | skew &lt;dbl&gt; | kurtosis &lt;dbl&gt; | se &lt;dbl&gt; |\n",
              "|---|---|---|---|---|---|---|---|---|---|---|---|---|---|\n",
              "| Date |  1 | 9357 |        NaN |          NA |           NA |         NaN |          NA |         Inf |        -Inf |        -Inf |          NA |          NA |          NA |\n",
              "| Time |  2 | 9357 |        NaN |          NA |           NA |         NaN |          NA |         Inf |        -Inf |        -Inf |          NA |          NA |          NA |\n",
              "| CO(GT) |  3 | 7674 |    2.15275 |   1.4532520 |    1.8000000 |    1.970586 |   1.1860800 |   0.1000000 |   11.900000 |   11.800000 |  1.36921735 |  2.66378335 | 0.016589376 |\n",
              "| PT08_S1(CO) |  4 | 8991 | 1099.70786 | 217.0845706 | 1063.0000000 | 1082.075050 | 210.1585500 | 647.2500000 | 2039.750000 | 1392.500000 |  0.75568085 |  0.33329121 | 2.289417289 |\n",
              "| C6H6(GT) |  5 | 8991 |   10.08299 |   7.4496399 |    8.2398514 |    9.111130 |   6.5438919 |   0.1490477 |   63.741476 |   63.592429 |  1.36102621 |  2.48508411 | 0.078565392 |\n",
              "| PT08_S2(NMHC) |  6 | 8991 |  939.02921 | 266.8290003 |  909.0000000 |  923.106180 | 278.7288000 | 383.2500000 | 2214.000000 | 1830.750000 |  0.56142414 |  0.06212149 | 2.814031990 |\n",
              "| NOx(GT) |  7 | 7718 |  246.88125 | 212.9712238 |  179.8000000 |  211.238731 | 148.4082600 |   2.0000000 | 1479.000000 | 1477.000000 |  1.71517474 |  3.39781304 | 2.424200516 |\n",
              "| PT08_S3(NOx) |  8 | 8991 |  835.37097 | 256.8151061 |  805.5000000 |  814.562850 | 229.4323500 | 322.0000000 | 2682.750000 | 2360.750000 |  1.10134283 |  2.67404086 | 2.708423460 |\n",
              "| NO2(GT) |  9 | 7715 |  113.07552 |  48.3592501 |  109.0000000 |  110.162174 |  47.4432000 |   2.0000000 |  339.700000 |  337.700000 |  0.62116610 |  0.46210832 | 0.550568795 |\n",
              "| PT08_S4(NO2) | 10 | 8991 | 1456.14349 | 346.2045404 | 1462.7500000 | 1450.783540 | 328.0252500 | 551.0000000 | 2775.000000 | 2224.000000 |  0.20529364 |  0.07659571 | 3.651142308 |\n",
              "| PT08_S5(O3) | 11 | 8991 | 1022.78073 | 398.4808967 |  963.2500000 |  996.109192 | 388.0705500 | 221.0000000 | 2522.750000 | 2301.750000 |  0.62765289 |  0.07714606 | 4.202459214 |\n",
              "| T | 12 | 8991 |   18.31605 |   8.8328880 |   17.7500000 |   17.977040 |   9.3033151 |  -1.9000000 |   44.600000 |   46.500000 |  0.30919864 | -0.45772919 | 0.093153403 |\n",
              "| RH | 13 | 8991 |   49.23236 |  17.3163893 |   49.5500002 |   49.288359 |  19.7185803 |   9.1750002 |   88.725000 |   79.550000 | -0.03796154 | -0.81919595 | 0.182622104 |\n",
              "| AH | 14 | 8991 |    1.02553 |   0.4038129 |    0.9953952 |    1.014298 |   0.4241067 |   0.1846790 |    2.231036 |    2.046357 |  0.25130367 | -0.56099423 | 0.004258692 |\n",
              "\n"
            ],
            "text/plain": [
              "              vars n    mean       sd          median       trimmed    \n",
              "Date           1   9357        NaN          NA           NA         NaN\n",
              "Time           2   9357        NaN          NA           NA         NaN\n",
              "CO(GT)         3   7674    2.15275   1.4532520    1.8000000    1.970586\n",
              "PT08_S1(CO)    4   8991 1099.70786 217.0845706 1063.0000000 1082.075050\n",
              "C6H6(GT)       5   8991   10.08299   7.4496399    8.2398514    9.111130\n",
              "PT08_S2(NMHC)  6   8991  939.02921 266.8290003  909.0000000  923.106180\n",
              "NOx(GT)        7   7718  246.88125 212.9712238  179.8000000  211.238731\n",
              "PT08_S3(NOx)   8   8991  835.37097 256.8151061  805.5000000  814.562850\n",
              "NO2(GT)        9   7715  113.07552  48.3592501  109.0000000  110.162174\n",
              "PT08_S4(NO2)  10   8991 1456.14349 346.2045404 1462.7500000 1450.783540\n",
              "PT08_S5(O3)   11   8991 1022.78073 398.4808967  963.2500000  996.109192\n",
              "T             12   8991   18.31605   8.8328880   17.7500000   17.977040\n",
              "RH            13   8991   49.23236  17.3163893   49.5500002   49.288359\n",
              "AH            14   8991    1.02553   0.4038129    0.9953952    1.014298\n",
              "              mad         min         max         range       skew       \n",
              "Date                   NA         Inf        -Inf        -Inf          NA\n",
              "Time                   NA         Inf        -Inf        -Inf          NA\n",
              "CO(GT)          1.1860800   0.1000000   11.900000   11.800000  1.36921735\n",
              "PT08_S1(CO)   210.1585500 647.2500000 2039.750000 1392.500000  0.75568085\n",
              "C6H6(GT)        6.5438919   0.1490477   63.741476   63.592429  1.36102621\n",
              "PT08_S2(NMHC) 278.7288000 383.2500000 2214.000000 1830.750000  0.56142414\n",
              "NOx(GT)       148.4082600   2.0000000 1479.000000 1477.000000  1.71517474\n",
              "PT08_S3(NOx)  229.4323500 322.0000000 2682.750000 2360.750000  1.10134283\n",
              "NO2(GT)        47.4432000   2.0000000  339.700000  337.700000  0.62116610\n",
              "PT08_S4(NO2)  328.0252500 551.0000000 2775.000000 2224.000000  0.20529364\n",
              "PT08_S5(O3)   388.0705500 221.0000000 2522.750000 2301.750000  0.62765289\n",
              "T               9.3033151  -1.9000000   44.600000   46.500000  0.30919864\n",
              "RH             19.7185803   9.1750002   88.725000   79.550000 -0.03796154\n",
              "AH              0.4241067   0.1846790    2.231036    2.046357  0.25130367\n",
              "              kurtosis    se         \n",
              "Date                   NA          NA\n",
              "Time                   NA          NA\n",
              "CO(GT)         2.66378335 0.016589376\n",
              "PT08_S1(CO)    0.33329121 2.289417289\n",
              "C6H6(GT)       2.48508411 0.078565392\n",
              "PT08_S2(NMHC)  0.06212149 2.814031990\n",
              "NOx(GT)        3.39781304 2.424200516\n",
              "PT08_S3(NOx)   2.67404086 2.708423460\n",
              "NO2(GT)        0.46210832 0.550568795\n",
              "PT08_S4(NO2)   0.07659571 3.651142308\n",
              "PT08_S5(O3)    0.07714606 4.202459214\n",
              "T             -0.45772919 0.093153403\n",
              "RH            -0.81919595 0.182622104\n",
              "AH            -0.56099423 0.004258692"
            ]
          },
          "metadata": {},
          "output_type": "display_data"
        }
      ],
      "source": [
        "describe(df)"
      ]
    },
    {
      "cell_type": "code",
      "execution_count": null,
      "metadata": {
        "colab": {
          "base_uri": "https://localhost:8080/",
          "height": 1000
        },
        "id": "qSohPWhW_CiL",
        "outputId": "32826831-585e-42ea-9b23-4aa6c9a2bbb9",
        "vscode": {
          "languageId": "r"
        }
      },
      "outputs": [
        {
          "data": {
            "text/html": [
              "<table class=\"dataframe\">\n",
              "<caption>A tibble: 9357 × 14</caption>\n",
              "<thead>\n",
              "\t<tr><th scope=col>Date</th><th scope=col>Time</th><th scope=col>CO(GT)</th><th scope=col>PT08_S1(CO)</th><th scope=col>C6H6(GT)</th><th scope=col>PT08_S2(NMHC)</th><th scope=col>NOx(GT)</th><th scope=col>PT08_S3(NOx)</th><th scope=col>NO2(GT)</th><th scope=col>PT08_S4(NO2)</th><th scope=col>PT08_S5(O3)</th><th scope=col>T</th><th scope=col>RH</th><th scope=col>AH</th></tr>\n",
              "\t<tr><th scope=col>&lt;dttm&gt;</th><th scope=col>&lt;chr&gt;</th><th scope=col>&lt;dbl&gt;</th><th scope=col>&lt;dbl&gt;</th><th scope=col>&lt;dbl&gt;</th><th scope=col>&lt;dbl&gt;</th><th scope=col>&lt;dbl&gt;</th><th scope=col>&lt;dbl&gt;</th><th scope=col>&lt;dbl&gt;</th><th scope=col>&lt;dbl&gt;</th><th scope=col>&lt;dbl&gt;</th><th scope=col>&lt;dbl&gt;</th><th scope=col>&lt;dbl&gt;</th><th scope=col>&lt;dbl&gt;</th></tr>\n",
              "</thead>\n",
              "<tbody>\n",
              "\t<tr><td>2004-03-10</td><td>18:00:00</td><td>2.6</td><td>1360.00</td><td>11.881723</td><td>1045.50</td><td>166</td><td>1056.25</td><td>113</td><td>1692.00</td><td>1267.50</td><td>13.600</td><td>48.875</td><td>0.7577538</td></tr>\n",
              "\t<tr><td>2004-03-10</td><td>19:00:00</td><td>2.0</td><td>1292.25</td><td> 9.397165</td><td> 954.75</td><td>103</td><td>1173.75</td><td> 92</td><td>1558.75</td><td> 972.25</td><td>13.300</td><td>47.700</td><td>0.7254874</td></tr>\n",
              "\t<tr><td>2004-03-10</td><td>20:00:00</td><td>2.2</td><td>1402.00</td><td> 8.997817</td><td> 939.25</td><td>131</td><td>1140.00</td><td>114</td><td>1554.50</td><td>1074.00</td><td>11.900</td><td>53.975</td><td>0.7502391</td></tr>\n",
              "\t<tr><td>2004-03-10</td><td>21:00:00</td><td>2.2</td><td>1375.50</td><td> 9.228796</td><td> 948.25</td><td>172</td><td>1092.00</td><td>122</td><td>1583.75</td><td>1203.25</td><td>11.000</td><td>60.000</td><td>0.7867125</td></tr>\n",
              "\t<tr><td>2004-03-10</td><td>22:00:00</td><td>1.6</td><td>1272.25</td><td> 6.518224</td><td> 835.50</td><td>131</td><td>1205.00</td><td>116</td><td>1490.00</td><td>1110.00</td><td>11.150</td><td>59.575</td><td>0.7887942</td></tr>\n",
              "\t<tr><td>2004-03-10</td><td>23:00:00</td><td>1.2</td><td>1197.00</td><td> 4.741012</td><td> 750.25</td><td> 89</td><td>1336.50</td><td> 96</td><td>1393.00</td><td> 949.25</td><td>11.175</td><td>59.175</td><td>0.7847717</td></tr>\n",
              "\t<tr><td>2004-03-11</td><td>00:00:00</td><td>1.2</td><td>1185.00</td><td> 3.624399</td><td> 689.50</td><td> 62</td><td>1461.75</td><td> 77</td><td>1332.75</td><td> 732.50</td><td>11.325</td><td>56.775</td><td>0.7603119</td></tr>\n",
              "\t<tr><td>2004-03-11</td><td>01:00:00</td><td>1.0</td><td>1136.25</td><td> 3.326677</td><td> 672.00</td><td> 62</td><td>1453.25</td><td> 76</td><td>1332.75</td><td> 729.50</td><td>10.675</td><td>60.000</td><td>0.7702385</td></tr>\n",
              "\t<tr><td>2004-03-11</td><td>02:00:00</td><td>0.9</td><td>1094.00</td><td> 2.339416</td><td> 608.50</td><td> 45</td><td>1579.00</td><td> 60</td><td>1276.00</td><td> 619.50</td><td>10.650</td><td>59.675</td><td>0.7648187</td></tr>\n",
              "\t<tr><td>2004-03-11</td><td>03:00:00</td><td>0.6</td><td>1009.75</td><td> 1.696658</td><td> 560.75</td><td> NA</td><td>1705.00</td><td> NA</td><td>1234.75</td><td> 501.25</td><td>10.250</td><td>60.200</td><td>0.7516572</td></tr>\n",
              "\t<tr><td>2004-03-11</td><td>04:00:00</td><td> NA</td><td>1011.00</td><td> 1.293620</td><td> 526.75</td><td> 21</td><td>1817.50</td><td> 34</td><td>1196.75</td><td> 445.25</td><td>10.075</td><td>60.475</td><td>0.7464945</td></tr>\n",
              "\t<tr><td>2004-03-11</td><td>05:00:00</td><td>0.7</td><td>1066.00</td><td> 1.133431</td><td> 512.00</td><td> 16</td><td>1918.00</td><td> 28</td><td>1182.00</td><td> 421.75</td><td>11.000</td><td>56.175</td><td>0.7365596</td></tr>\n",
              "\t<tr><td>2004-03-11</td><td>06:00:00</td><td>0.7</td><td>1051.75</td><td> 1.603768</td><td> 553.25</td><td> 34</td><td>1738.25</td><td> 48</td><td>1221.25</td><td> 471.50</td><td>10.450</td><td>58.125</td><td>0.7352951</td></tr>\n",
              "\t<tr><td>2004-03-11</td><td>07:00:00</td><td>1.1</td><td>1144.00</td><td> 3.243618</td><td> 667.00</td><td> 98</td><td>1489.75</td><td> 82</td><td>1339.00</td><td> 729.75</td><td>10.200</td><td>59.600</td><td>0.7417362</td></tr>\n",
              "\t<tr><td>2004-03-11</td><td>08:00:00</td><td>2.0</td><td>1333.25</td><td> 8.013773</td><td> 899.75</td><td>174</td><td>1136.00</td><td>112</td><td>1517.00</td><td>1101.50</td><td>10.750</td><td>57.425</td><td>0.7407946</td></tr>\n",
              "\t<tr><td>2004-03-11</td><td>09:00:00</td><td>2.2</td><td>1351.00</td><td> 9.540643</td><td> 960.25</td><td>129</td><td>1079.00</td><td>101</td><td>1582.75</td><td>1027.75</td><td>10.500</td><td>60.600</td><td>0.7691108</td></tr>\n",
              "\t<tr><td>2004-03-11</td><td>10:00:00</td><td>1.7</td><td>1233.25</td><td> 6.335782</td><td> 827.25</td><td>112</td><td>1218.00</td><td> 98</td><td>1445.75</td><td> 859.75</td><td>10.800</td><td>58.350</td><td>0.7551831</td></tr>\n",
              "\t<tr><td>2004-03-11</td><td>11:00:00</td><td>1.5</td><td>1178.75</td><td> 4.971584</td><td> 762.00</td><td> 95</td><td>1327.50</td><td> 92</td><td>1361.75</td><td> 670.50</td><td>10.500</td><td>57.925</td><td>0.7351608</td></tr>\n",
              "\t<tr><td>2004-03-11</td><td>12:00:00</td><td>1.6</td><td>1236.00</td><td> 5.216919</td><td> 774.25</td><td>104</td><td>1301.25</td><td> 95</td><td>1401.25</td><td> 664.00</td><td> 9.525</td><td>66.775</td><td>0.7950538</td></tr>\n",
              "\t<tr><td>2004-03-11</td><td>13:00:00</td><td>1.9</td><td>1285.50</td><td> 7.269933</td><td> 868.50</td><td>146</td><td>1162.25</td><td>112</td><td>1536.75</td><td> 799.00</td><td> 8.300</td><td>76.425</td><td>0.8392681</td></tr>\n",
              "\t<tr><td>2004-03-11</td><td>14:00:00</td><td>2.9</td><td>1371.00</td><td>11.539007</td><td>1033.50</td><td>207</td><td> 983.25</td><td>128</td><td>1730.25</td><td>1036.50</td><td> 8.000</td><td>81.150</td><td>0.8735885</td></tr>\n",
              "\t<tr><td>2004-03-11</td><td>15:00:00</td><td>2.2</td><td>1310.00</td><td> 8.826223</td><td> 932.50</td><td>184</td><td>1081.75</td><td>126</td><td>1646.50</td><td> 946.25</td><td> 8.325</td><td>79.800</td><td>0.8777844</td></tr>\n",
              "\t<tr><td>2004-03-11</td><td>16:00:00</td><td>2.2</td><td>1291.75</td><td> 8.301413</td><td> 911.50</td><td>193</td><td>1102.50</td><td>131</td><td>1590.75</td><td> 956.75</td><td> 9.700</td><td>71.150</td><td>0.8569381</td></tr>\n",
              "\t<tr><td>2004-03-11</td><td>17:00:00</td><td>2.9</td><td>1383.00</td><td>11.151581</td><td>1019.75</td><td>243</td><td>1008.00</td><td>135</td><td>1718.75</td><td>1104.00</td><td> 9.775</td><td>67.625</td><td>0.8185012</td></tr>\n",
              "\t<tr><td>2004-03-11</td><td>18:00:00</td><td>4.8</td><td>1580.75</td><td>20.799217</td><td>1318.50</td><td>281</td><td> 798.50</td><td>151</td><td>2083.00</td><td>1408.50</td><td>10.350</td><td>64.175</td><td>0.8065436</td></tr>\n",
              "\t<tr><td>2004-03-11</td><td>19:00:00</td><td>6.9</td><td>1775.50</td><td>27.359807</td><td>1487.75</td><td>383</td><td> 702.25</td><td>172</td><td>2332.50</td><td>1704.00</td><td> 9.650</td><td>69.300</td><td>0.8319211</td></tr>\n",
              "\t<tr><td>2004-03-11</td><td>20:00:00</td><td>6.1</td><td>1640.00</td><td>24.017757</td><td>1404.00</td><td>351</td><td> 742.75</td><td>165</td><td>2191.25</td><td>1653.75</td><td> 9.650</td><td>67.750</td><td>0.8133139</td></tr>\n",
              "\t<tr><td>2004-03-11</td><td>21:00:00</td><td>3.9</td><td>1312.75</td><td>12.779368</td><td>1076.25</td><td>240</td><td> 957.25</td><td>136</td><td>1706.50</td><td>1284.75</td><td> 9.125</td><td>63.975</td><td>0.7419242</td></tr>\n",
              "\t<tr><td>2004-03-11</td><td>22:00:00</td><td>1.5</td><td> 964.50</td><td> 4.707072</td><td> 748.50</td><td> 94</td><td>1325.25</td><td> 85</td><td>1332.50</td><td> 821.00</td><td> 8.175</td><td>63.400</td><td>0.6904844</td></tr>\n",
              "\t<tr><td>2004-03-11</td><td>23:00:00</td><td>1.0</td><td> 912.75</td><td> 2.645722</td><td> 629.25</td><td> 47</td><td>1564.50</td><td> 53</td><td>1252.25</td><td> 551.75</td><td> 8.250</td><td>60.825</td><td>0.6657444</td></tr>\n",
              "\t<tr><td>⋮</td><td>⋮</td><td>⋮</td><td>⋮</td><td>⋮</td><td>⋮</td><td>⋮</td><td>⋮</td><td>⋮</td><td>⋮</td><td>⋮</td><td>⋮</td><td>⋮</td><td>⋮</td></tr>\n",
              "\t<tr><td>2005-04-03</td><td>09:00:00</td><td>1.2</td><td>1022.250</td><td> 4.0820954</td><td> 715.2500</td><td>191.9</td><td> 806.0000</td><td>118.0</td><td>1004.2500</td><td> 830.7500</td><td>17.825</td><td>30.675</td><td>0.6204581</td></tr>\n",
              "\t<tr><td>2005-04-03</td><td>10:00:00</td><td>1.4</td><td> 970.250</td><td> 3.4021941</td><td> 676.5000</td><td>166.4</td><td> 887.5000</td><td>113.2</td><td> 930.5000</td><td> 612.5000</td><td>21.125</td><td>23.725</td><td>0.5875284</td></tr>\n",
              "\t<tr><td>2005-04-03</td><td>11:00:00</td><td>1.3</td><td> 999.750</td><td> 5.3134016</td><td> 779.0000</td><td>171.3</td><td> 804.5000</td><td>115.0</td><td>1000.7500</td><td> 639.5000</td><td>24.000</td><td>19.275</td><td>0.5672832</td></tr>\n",
              "\t<tr><td>2005-04-03</td><td>12:00:00</td><td>1.4</td><td> 996.000</td><td> 5.3491377</td><td> 780.7500</td><td>177.0</td><td> 806.0000</td><td>123.9</td><td> 985.2500</td><td> 630.7500</td><td>26.450</td><td>16.450</td><td>0.5594143</td></tr>\n",
              "\t<tr><td>2005-04-03</td><td>13:00:00</td><td>1.0</td><td> 928.000</td><td> 3.8170805</td><td> 700.5000</td><td>118.7</td><td> 925.7500</td><td> 86.4</td><td> 902.0000</td><td> 455.5000</td><td>28.675</td><td>13.700</td><td>0.5301555</td></tr>\n",
              "\t<tr><td>2005-04-03</td><td>14:00:00</td><td>1.0</td><td> 932.750</td><td> 4.2012815</td><td> 721.7500</td><td>120.6</td><td> 898.7500</td><td> 87.0</td><td> 889.5000</td><td> 449.7500</td><td>28.475</td><td>13.075</td><td>0.5001660</td></tr>\n",
              "\t<tr><td>2005-04-03</td><td>15:00:00</td><td>1.1</td><td> 956.000</td><td> 5.3952341</td><td> 783.0000</td><td>141.9</td><td> 856.7500</td><td>100.4</td><td> 895.7500</td><td> 515.7500</td><td>30.000</td><td>11.075</td><td>0.4624361</td></tr>\n",
              "\t<tr><td>2005-04-03</td><td>16:00:00</td><td>1.3</td><td> 967.500</td><td> 6.3138185</td><td> 826.2500</td><td>197.3</td><td> 866.5000</td><td>132.0</td><td> 898.2500</td><td> 548.0000</td><td>29.425</td><td>10.375</td><td>0.4191794</td></tr>\n",
              "\t<tr><td>2005-04-03</td><td>17:00:00</td><td>1.4</td><td> 952.500</td><td> 6.1013774</td><td> 816.5000</td><td>241.8</td><td> 871.5000</td><td>156.3</td><td> 891.0000</td><td> 603.2500</td><td>28.875</td><td> 9.875</td><td>0.3865657</td></tr>\n",
              "\t<tr><td>2005-04-03</td><td>18:00:00</td><td>1.2</td><td>1014.667</td><td> 4.5946890</td><td> 742.6667</td><td>190.1</td><td> 850.6667</td><td>137.9</td><td> 980.6667</td><td> 597.3333</td><td>22.800</td><td>21.700</td><td>0.5944910</td></tr>\n",
              "\t<tr><td>2005-04-03</td><td>19:00:00</td><td>2.7</td><td>1248.000</td><td>11.1096582</td><td>1018.2500</td><td>367.4</td><td> 598.7500</td><td>181.3</td><td>1289.2500</td><td>1167.0000</td><td>19.925</td><td>33.050</td><td>0.7607842</td></tr>\n",
              "\t<tr><td>2005-04-03</td><td>20:00:00</td><td>2.5</td><td>1180.250</td><td> 7.8685636</td><td> 893.7500</td><td>355.0</td><td> 636.2500</td><td>186.8</td><td>1200.2500</td><td>1371.7500</td><td>17.500</td><td>40.725</td><td>0.8072809</td></tr>\n",
              "\t<tr><td>2005-04-03</td><td>21:00:00</td><td>1.5</td><td>1101.750</td><td> 5.9990053</td><td> 811.7500</td><td>235.2</td><td> 692.7500</td><td>157.8</td><td>1178.0000</td><td>1042.2500</td><td>16.450</td><td>46.550</td><td>0.8642378</td></tr>\n",
              "\t<tr><td>2005-04-03</td><td>22:00:00</td><td>1.6</td><td>1115.500</td><td> 5.8176597</td><td> 803.2500</td><td>232.7</td><td> 696.2500</td><td>153.2</td><td>1173.0000</td><td>1055.0000</td><td>15.525</td><td>48.975</td><td>0.8579330</td></tr>\n",
              "\t<tr><td>2005-04-03</td><td>23:00:00</td><td>1.2</td><td>1099.750</td><td> 5.1061454</td><td> 768.7500</td><td>170.1</td><td> 721.7500</td><td>127.6</td><td>1146.7500</td><td>1049.0000</td><td>14.275</td><td>52.500</td><td>0.8497265</td></tr>\n",
              "\t<tr><td>2005-04-04</td><td>00:00:00</td><td>0.9</td><td>1012.000</td><td> 3.5040055</td><td> 682.5000</td><td>117.2</td><td> 800.7500</td><td> 93.0</td><td>1072.5000</td><td> 816.2500</td><td>14.175</td><td>51.450</td><td>0.8274535</td></tr>\n",
              "\t<tr><td>2005-04-04</td><td>01:00:00</td><td>0.6</td><td> 944.250</td><td> 1.9319317</td><td> 579.0000</td><td> 69.6</td><td> 924.7500</td><td> 58.3</td><td>1001.7500</td><td> 598.2500</td><td>13.850</td><td>51.150</td><td>0.8057777</td></tr>\n",
              "\t<tr><td>2005-04-04</td><td>02:00:00</td><td>0.5</td><td> 911.750</td><td> 1.4893234</td><td> 543.7500</td><td> 69.0</td><td> 958.5000</td><td> 54.6</td><td>1002.0000</td><td> 573.0000</td><td>12.100</td><td>56.300</td><td>0.7927300</td></tr>\n",
              "\t<tr><td>2005-04-04</td><td>03:00:00</td><td>0.4</td><td> 887.000</td><td> 1.0863655</td><td> 507.5000</td><td> 61.7</td><td>1046.5000</td><td> 51.3</td><td> 973.5000</td><td> 548.7500</td><td>11.325</td><td>58.900</td><td>0.7887692</td></tr>\n",
              "\t<tr><td>2005-04-04</td><td>04:00:00</td><td> NA</td><td> 864.250</td><td> 0.8015043</td><td> 478.2500</td><td> 52.3</td><td>1116.0000</td><td> 42.5</td><td> 958.2500</td><td> 488.7500</td><td>11.825</td><td>55.975</td><td>0.7742753</td></tr>\n",
              "\t<tr><td>2005-04-04</td><td>05:00:00</td><td>0.5</td><td> 888.250</td><td> 1.3076084</td><td> 528.0000</td><td> 76.5</td><td>1076.5000</td><td> 53.1</td><td> 987.0000</td><td> 577.5000</td><td>10.400</td><td>59.875</td><td>0.7549638</td></tr>\n",
              "\t<tr><td>2005-04-04</td><td>06:00:00</td><td>1.1</td><td>1030.500</td><td> 4.3593410</td><td> 730.2500</td><td>182.2</td><td> 760.0000</td><td> 93.0</td><td>1129.0000</td><td> 905.0000</td><td> 9.550</td><td>63.150</td><td>0.7531292</td></tr>\n",
              "\t<tr><td>2005-04-04</td><td>07:00:00</td><td>4.0</td><td>1383.500</td><td>17.3642398</td><td>1220.7500</td><td>593.7</td><td> 470.2500</td><td>154.6</td><td>1600.0000</td><td>1457.2500</td><td> 9.675</td><td>61.925</td><td>0.7446082</td></tr>\n",
              "\t<tr><td>2005-04-04</td><td>08:00:00</td><td>5.0</td><td>1446.000</td><td>22.3932328</td><td>1361.5000</td><td>586.2</td><td> 414.7500</td><td>173.6</td><td>1776.5000</td><td>1704.5000</td><td>13.550</td><td>48.875</td><td>0.7553375</td></tr>\n",
              "\t<tr><td>2005-04-04</td><td>09:00:00</td><td>3.9</td><td>1296.500</td><td>13.5523933</td><td>1102.0000</td><td>522.7</td><td> 506.7500</td><td>186.5</td><td>1375.2500</td><td>1582.5000</td><td>18.150</td><td>36.275</td><td>0.7486522</td></tr>\n",
              "\t<tr><td>2005-04-04</td><td>10:00:00</td><td>3.1</td><td>1314.250</td><td>13.5296047</td><td>1101.2500</td><td>471.7</td><td> 538.5000</td><td>189.8</td><td>1374.2500</td><td>1728.5000</td><td>21.850</td><td>29.250</td><td>0.7568244</td></tr>\n",
              "\t<tr><td>2005-04-04</td><td>11:00:00</td><td>2.4</td><td>1162.500</td><td>11.3551574</td><td>1027.0000</td><td>353.3</td><td> 603.7500</td><td>179.2</td><td>1263.5000</td><td>1269.0000</td><td>24.325</td><td>23.725</td><td>0.7118637</td></tr>\n",
              "\t<tr><td>2005-04-04</td><td>12:00:00</td><td>2.4</td><td>1142.000</td><td>12.3745384</td><td>1062.5000</td><td>293.0</td><td> 603.2500</td><td>174.7</td><td>1240.7500</td><td>1092.0000</td><td>26.900</td><td>18.350</td><td>0.6406488</td></tr>\n",
              "\t<tr><td>2005-04-04</td><td>13:00:00</td><td>2.1</td><td>1002.500</td><td> 9.5471867</td><td> 960.5000</td><td>234.5</td><td> 701.5000</td><td>155.7</td><td>1041.0000</td><td> 769.7500</td><td>28.325</td><td>13.550</td><td>0.5138659</td></tr>\n",
              "\t<tr><td>2005-04-04</td><td>14:00:00</td><td>2.2</td><td>1070.750</td><td>11.9320599</td><td>1047.2500</td><td>265.2</td><td> 654.0000</td><td>167.7</td><td>1128.5000</td><td> 816.0000</td><td>28.500</td><td>13.125</td><td>0.5028037</td></tr>\n",
              "</tbody>\n",
              "</table>\n"
            ],
            "text/latex": [
              "A tibble: 9357 × 14\n",
              "\\begin{tabular}{llllllllllllll}\n",
              " Date & Time & CO(GT) & PT08\\_S1(CO) & C6H6(GT) & PT08\\_S2(NMHC) & NOx(GT) & PT08\\_S3(NOx) & NO2(GT) & PT08\\_S4(NO2) & PT08\\_S5(O3) & T & RH & AH\\\\\n",
              " <dttm> & <chr> & <dbl> & <dbl> & <dbl> & <dbl> & <dbl> & <dbl> & <dbl> & <dbl> & <dbl> & <dbl> & <dbl> & <dbl>\\\\\n",
              "\\hline\n",
              "\t 2004-03-10 & 18:00:00 & 2.6 & 1360.00 & 11.881723 & 1045.50 & 166 & 1056.25 & 113 & 1692.00 & 1267.50 & 13.600 & 48.875 & 0.7577538\\\\\n",
              "\t 2004-03-10 & 19:00:00 & 2.0 & 1292.25 &  9.397165 &  954.75 & 103 & 1173.75 &  92 & 1558.75 &  972.25 & 13.300 & 47.700 & 0.7254874\\\\\n",
              "\t 2004-03-10 & 20:00:00 & 2.2 & 1402.00 &  8.997817 &  939.25 & 131 & 1140.00 & 114 & 1554.50 & 1074.00 & 11.900 & 53.975 & 0.7502391\\\\\n",
              "\t 2004-03-10 & 21:00:00 & 2.2 & 1375.50 &  9.228796 &  948.25 & 172 & 1092.00 & 122 & 1583.75 & 1203.25 & 11.000 & 60.000 & 0.7867125\\\\\n",
              "\t 2004-03-10 & 22:00:00 & 1.6 & 1272.25 &  6.518224 &  835.50 & 131 & 1205.00 & 116 & 1490.00 & 1110.00 & 11.150 & 59.575 & 0.7887942\\\\\n",
              "\t 2004-03-10 & 23:00:00 & 1.2 & 1197.00 &  4.741012 &  750.25 &  89 & 1336.50 &  96 & 1393.00 &  949.25 & 11.175 & 59.175 & 0.7847717\\\\\n",
              "\t 2004-03-11 & 00:00:00 & 1.2 & 1185.00 &  3.624399 &  689.50 &  62 & 1461.75 &  77 & 1332.75 &  732.50 & 11.325 & 56.775 & 0.7603119\\\\\n",
              "\t 2004-03-11 & 01:00:00 & 1.0 & 1136.25 &  3.326677 &  672.00 &  62 & 1453.25 &  76 & 1332.75 &  729.50 & 10.675 & 60.000 & 0.7702385\\\\\n",
              "\t 2004-03-11 & 02:00:00 & 0.9 & 1094.00 &  2.339416 &  608.50 &  45 & 1579.00 &  60 & 1276.00 &  619.50 & 10.650 & 59.675 & 0.7648187\\\\\n",
              "\t 2004-03-11 & 03:00:00 & 0.6 & 1009.75 &  1.696658 &  560.75 &  NA & 1705.00 &  NA & 1234.75 &  501.25 & 10.250 & 60.200 & 0.7516572\\\\\n",
              "\t 2004-03-11 & 04:00:00 &  NA & 1011.00 &  1.293620 &  526.75 &  21 & 1817.50 &  34 & 1196.75 &  445.25 & 10.075 & 60.475 & 0.7464945\\\\\n",
              "\t 2004-03-11 & 05:00:00 & 0.7 & 1066.00 &  1.133431 &  512.00 &  16 & 1918.00 &  28 & 1182.00 &  421.75 & 11.000 & 56.175 & 0.7365596\\\\\n",
              "\t 2004-03-11 & 06:00:00 & 0.7 & 1051.75 &  1.603768 &  553.25 &  34 & 1738.25 &  48 & 1221.25 &  471.50 & 10.450 & 58.125 & 0.7352951\\\\\n",
              "\t 2004-03-11 & 07:00:00 & 1.1 & 1144.00 &  3.243618 &  667.00 &  98 & 1489.75 &  82 & 1339.00 &  729.75 & 10.200 & 59.600 & 0.7417362\\\\\n",
              "\t 2004-03-11 & 08:00:00 & 2.0 & 1333.25 &  8.013773 &  899.75 & 174 & 1136.00 & 112 & 1517.00 & 1101.50 & 10.750 & 57.425 & 0.7407946\\\\\n",
              "\t 2004-03-11 & 09:00:00 & 2.2 & 1351.00 &  9.540643 &  960.25 & 129 & 1079.00 & 101 & 1582.75 & 1027.75 & 10.500 & 60.600 & 0.7691108\\\\\n",
              "\t 2004-03-11 & 10:00:00 & 1.7 & 1233.25 &  6.335782 &  827.25 & 112 & 1218.00 &  98 & 1445.75 &  859.75 & 10.800 & 58.350 & 0.7551831\\\\\n",
              "\t 2004-03-11 & 11:00:00 & 1.5 & 1178.75 &  4.971584 &  762.00 &  95 & 1327.50 &  92 & 1361.75 &  670.50 & 10.500 & 57.925 & 0.7351608\\\\\n",
              "\t 2004-03-11 & 12:00:00 & 1.6 & 1236.00 &  5.216919 &  774.25 & 104 & 1301.25 &  95 & 1401.25 &  664.00 &  9.525 & 66.775 & 0.7950538\\\\\n",
              "\t 2004-03-11 & 13:00:00 & 1.9 & 1285.50 &  7.269933 &  868.50 & 146 & 1162.25 & 112 & 1536.75 &  799.00 &  8.300 & 76.425 & 0.8392681\\\\\n",
              "\t 2004-03-11 & 14:00:00 & 2.9 & 1371.00 & 11.539007 & 1033.50 & 207 &  983.25 & 128 & 1730.25 & 1036.50 &  8.000 & 81.150 & 0.8735885\\\\\n",
              "\t 2004-03-11 & 15:00:00 & 2.2 & 1310.00 &  8.826223 &  932.50 & 184 & 1081.75 & 126 & 1646.50 &  946.25 &  8.325 & 79.800 & 0.8777844\\\\\n",
              "\t 2004-03-11 & 16:00:00 & 2.2 & 1291.75 &  8.301413 &  911.50 & 193 & 1102.50 & 131 & 1590.75 &  956.75 &  9.700 & 71.150 & 0.8569381\\\\\n",
              "\t 2004-03-11 & 17:00:00 & 2.9 & 1383.00 & 11.151581 & 1019.75 & 243 & 1008.00 & 135 & 1718.75 & 1104.00 &  9.775 & 67.625 & 0.8185012\\\\\n",
              "\t 2004-03-11 & 18:00:00 & 4.8 & 1580.75 & 20.799217 & 1318.50 & 281 &  798.50 & 151 & 2083.00 & 1408.50 & 10.350 & 64.175 & 0.8065436\\\\\n",
              "\t 2004-03-11 & 19:00:00 & 6.9 & 1775.50 & 27.359807 & 1487.75 & 383 &  702.25 & 172 & 2332.50 & 1704.00 &  9.650 & 69.300 & 0.8319211\\\\\n",
              "\t 2004-03-11 & 20:00:00 & 6.1 & 1640.00 & 24.017757 & 1404.00 & 351 &  742.75 & 165 & 2191.25 & 1653.75 &  9.650 & 67.750 & 0.8133139\\\\\n",
              "\t 2004-03-11 & 21:00:00 & 3.9 & 1312.75 & 12.779368 & 1076.25 & 240 &  957.25 & 136 & 1706.50 & 1284.75 &  9.125 & 63.975 & 0.7419242\\\\\n",
              "\t 2004-03-11 & 22:00:00 & 1.5 &  964.50 &  4.707072 &  748.50 &  94 & 1325.25 &  85 & 1332.50 &  821.00 &  8.175 & 63.400 & 0.6904844\\\\\n",
              "\t 2004-03-11 & 23:00:00 & 1.0 &  912.75 &  2.645722 &  629.25 &  47 & 1564.50 &  53 & 1252.25 &  551.75 &  8.250 & 60.825 & 0.6657444\\\\\n",
              "\t ⋮ & ⋮ & ⋮ & ⋮ & ⋮ & ⋮ & ⋮ & ⋮ & ⋮ & ⋮ & ⋮ & ⋮ & ⋮ & ⋮\\\\\n",
              "\t 2005-04-03 & 09:00:00 & 1.2 & 1022.250 &  4.0820954 &  715.2500 & 191.9 &  806.0000 & 118.0 & 1004.2500 &  830.7500 & 17.825 & 30.675 & 0.6204581\\\\\n",
              "\t 2005-04-03 & 10:00:00 & 1.4 &  970.250 &  3.4021941 &  676.5000 & 166.4 &  887.5000 & 113.2 &  930.5000 &  612.5000 & 21.125 & 23.725 & 0.5875284\\\\\n",
              "\t 2005-04-03 & 11:00:00 & 1.3 &  999.750 &  5.3134016 &  779.0000 & 171.3 &  804.5000 & 115.0 & 1000.7500 &  639.5000 & 24.000 & 19.275 & 0.5672832\\\\\n",
              "\t 2005-04-03 & 12:00:00 & 1.4 &  996.000 &  5.3491377 &  780.7500 & 177.0 &  806.0000 & 123.9 &  985.2500 &  630.7500 & 26.450 & 16.450 & 0.5594143\\\\\n",
              "\t 2005-04-03 & 13:00:00 & 1.0 &  928.000 &  3.8170805 &  700.5000 & 118.7 &  925.7500 &  86.4 &  902.0000 &  455.5000 & 28.675 & 13.700 & 0.5301555\\\\\n",
              "\t 2005-04-03 & 14:00:00 & 1.0 &  932.750 &  4.2012815 &  721.7500 & 120.6 &  898.7500 &  87.0 &  889.5000 &  449.7500 & 28.475 & 13.075 & 0.5001660\\\\\n",
              "\t 2005-04-03 & 15:00:00 & 1.1 &  956.000 &  5.3952341 &  783.0000 & 141.9 &  856.7500 & 100.4 &  895.7500 &  515.7500 & 30.000 & 11.075 & 0.4624361\\\\\n",
              "\t 2005-04-03 & 16:00:00 & 1.3 &  967.500 &  6.3138185 &  826.2500 & 197.3 &  866.5000 & 132.0 &  898.2500 &  548.0000 & 29.425 & 10.375 & 0.4191794\\\\\n",
              "\t 2005-04-03 & 17:00:00 & 1.4 &  952.500 &  6.1013774 &  816.5000 & 241.8 &  871.5000 & 156.3 &  891.0000 &  603.2500 & 28.875 &  9.875 & 0.3865657\\\\\n",
              "\t 2005-04-03 & 18:00:00 & 1.2 & 1014.667 &  4.5946890 &  742.6667 & 190.1 &  850.6667 & 137.9 &  980.6667 &  597.3333 & 22.800 & 21.700 & 0.5944910\\\\\n",
              "\t 2005-04-03 & 19:00:00 & 2.7 & 1248.000 & 11.1096582 & 1018.2500 & 367.4 &  598.7500 & 181.3 & 1289.2500 & 1167.0000 & 19.925 & 33.050 & 0.7607842\\\\\n",
              "\t 2005-04-03 & 20:00:00 & 2.5 & 1180.250 &  7.8685636 &  893.7500 & 355.0 &  636.2500 & 186.8 & 1200.2500 & 1371.7500 & 17.500 & 40.725 & 0.8072809\\\\\n",
              "\t 2005-04-03 & 21:00:00 & 1.5 & 1101.750 &  5.9990053 &  811.7500 & 235.2 &  692.7500 & 157.8 & 1178.0000 & 1042.2500 & 16.450 & 46.550 & 0.8642378\\\\\n",
              "\t 2005-04-03 & 22:00:00 & 1.6 & 1115.500 &  5.8176597 &  803.2500 & 232.7 &  696.2500 & 153.2 & 1173.0000 & 1055.0000 & 15.525 & 48.975 & 0.8579330\\\\\n",
              "\t 2005-04-03 & 23:00:00 & 1.2 & 1099.750 &  5.1061454 &  768.7500 & 170.1 &  721.7500 & 127.6 & 1146.7500 & 1049.0000 & 14.275 & 52.500 & 0.8497265\\\\\n",
              "\t 2005-04-04 & 00:00:00 & 0.9 & 1012.000 &  3.5040055 &  682.5000 & 117.2 &  800.7500 &  93.0 & 1072.5000 &  816.2500 & 14.175 & 51.450 & 0.8274535\\\\\n",
              "\t 2005-04-04 & 01:00:00 & 0.6 &  944.250 &  1.9319317 &  579.0000 &  69.6 &  924.7500 &  58.3 & 1001.7500 &  598.2500 & 13.850 & 51.150 & 0.8057777\\\\\n",
              "\t 2005-04-04 & 02:00:00 & 0.5 &  911.750 &  1.4893234 &  543.7500 &  69.0 &  958.5000 &  54.6 & 1002.0000 &  573.0000 & 12.100 & 56.300 & 0.7927300\\\\\n",
              "\t 2005-04-04 & 03:00:00 & 0.4 &  887.000 &  1.0863655 &  507.5000 &  61.7 & 1046.5000 &  51.3 &  973.5000 &  548.7500 & 11.325 & 58.900 & 0.7887692\\\\\n",
              "\t 2005-04-04 & 04:00:00 &  NA &  864.250 &  0.8015043 &  478.2500 &  52.3 & 1116.0000 &  42.5 &  958.2500 &  488.7500 & 11.825 & 55.975 & 0.7742753\\\\\n",
              "\t 2005-04-04 & 05:00:00 & 0.5 &  888.250 &  1.3076084 &  528.0000 &  76.5 & 1076.5000 &  53.1 &  987.0000 &  577.5000 & 10.400 & 59.875 & 0.7549638\\\\\n",
              "\t 2005-04-04 & 06:00:00 & 1.1 & 1030.500 &  4.3593410 &  730.2500 & 182.2 &  760.0000 &  93.0 & 1129.0000 &  905.0000 &  9.550 & 63.150 & 0.7531292\\\\\n",
              "\t 2005-04-04 & 07:00:00 & 4.0 & 1383.500 & 17.3642398 & 1220.7500 & 593.7 &  470.2500 & 154.6 & 1600.0000 & 1457.2500 &  9.675 & 61.925 & 0.7446082\\\\\n",
              "\t 2005-04-04 & 08:00:00 & 5.0 & 1446.000 & 22.3932328 & 1361.5000 & 586.2 &  414.7500 & 173.6 & 1776.5000 & 1704.5000 & 13.550 & 48.875 & 0.7553375\\\\\n",
              "\t 2005-04-04 & 09:00:00 & 3.9 & 1296.500 & 13.5523933 & 1102.0000 & 522.7 &  506.7500 & 186.5 & 1375.2500 & 1582.5000 & 18.150 & 36.275 & 0.7486522\\\\\n",
              "\t 2005-04-04 & 10:00:00 & 3.1 & 1314.250 & 13.5296047 & 1101.2500 & 471.7 &  538.5000 & 189.8 & 1374.2500 & 1728.5000 & 21.850 & 29.250 & 0.7568244\\\\\n",
              "\t 2005-04-04 & 11:00:00 & 2.4 & 1162.500 & 11.3551574 & 1027.0000 & 353.3 &  603.7500 & 179.2 & 1263.5000 & 1269.0000 & 24.325 & 23.725 & 0.7118637\\\\\n",
              "\t 2005-04-04 & 12:00:00 & 2.4 & 1142.000 & 12.3745384 & 1062.5000 & 293.0 &  603.2500 & 174.7 & 1240.7500 & 1092.0000 & 26.900 & 18.350 & 0.6406488\\\\\n",
              "\t 2005-04-04 & 13:00:00 & 2.1 & 1002.500 &  9.5471867 &  960.5000 & 234.5 &  701.5000 & 155.7 & 1041.0000 &  769.7500 & 28.325 & 13.550 & 0.5138659\\\\\n",
              "\t 2005-04-04 & 14:00:00 & 2.2 & 1070.750 & 11.9320599 & 1047.2500 & 265.2 &  654.0000 & 167.7 & 1128.5000 &  816.0000 & 28.500 & 13.125 & 0.5028037\\\\\n",
              "\\end{tabular}\n"
            ],
            "text/markdown": [
              "\n",
              "A tibble: 9357 × 14\n",
              "\n",
              "| Date &lt;dttm&gt; | Time &lt;chr&gt; | CO(GT) &lt;dbl&gt; | PT08_S1(CO) &lt;dbl&gt; | C6H6(GT) &lt;dbl&gt; | PT08_S2(NMHC) &lt;dbl&gt; | NOx(GT) &lt;dbl&gt; | PT08_S3(NOx) &lt;dbl&gt; | NO2(GT) &lt;dbl&gt; | PT08_S4(NO2) &lt;dbl&gt; | PT08_S5(O3) &lt;dbl&gt; | T &lt;dbl&gt; | RH &lt;dbl&gt; | AH &lt;dbl&gt; |\n",
              "|---|---|---|---|---|---|---|---|---|---|---|---|---|---|\n",
              "| 2004-03-10 | 18:00:00 | 2.6 | 1360.00 | 11.881723 | 1045.50 | 166 | 1056.25 | 113 | 1692.00 | 1267.50 | 13.600 | 48.875 | 0.7577538 |\n",
              "| 2004-03-10 | 19:00:00 | 2.0 | 1292.25 |  9.397165 |  954.75 | 103 | 1173.75 |  92 | 1558.75 |  972.25 | 13.300 | 47.700 | 0.7254874 |\n",
              "| 2004-03-10 | 20:00:00 | 2.2 | 1402.00 |  8.997817 |  939.25 | 131 | 1140.00 | 114 | 1554.50 | 1074.00 | 11.900 | 53.975 | 0.7502391 |\n",
              "| 2004-03-10 | 21:00:00 | 2.2 | 1375.50 |  9.228796 |  948.25 | 172 | 1092.00 | 122 | 1583.75 | 1203.25 | 11.000 | 60.000 | 0.7867125 |\n",
              "| 2004-03-10 | 22:00:00 | 1.6 | 1272.25 |  6.518224 |  835.50 | 131 | 1205.00 | 116 | 1490.00 | 1110.00 | 11.150 | 59.575 | 0.7887942 |\n",
              "| 2004-03-10 | 23:00:00 | 1.2 | 1197.00 |  4.741012 |  750.25 |  89 | 1336.50 |  96 | 1393.00 |  949.25 | 11.175 | 59.175 | 0.7847717 |\n",
              "| 2004-03-11 | 00:00:00 | 1.2 | 1185.00 |  3.624399 |  689.50 |  62 | 1461.75 |  77 | 1332.75 |  732.50 | 11.325 | 56.775 | 0.7603119 |\n",
              "| 2004-03-11 | 01:00:00 | 1.0 | 1136.25 |  3.326677 |  672.00 |  62 | 1453.25 |  76 | 1332.75 |  729.50 | 10.675 | 60.000 | 0.7702385 |\n",
              "| 2004-03-11 | 02:00:00 | 0.9 | 1094.00 |  2.339416 |  608.50 |  45 | 1579.00 |  60 | 1276.00 |  619.50 | 10.650 | 59.675 | 0.7648187 |\n",
              "| 2004-03-11 | 03:00:00 | 0.6 | 1009.75 |  1.696658 |  560.75 |  NA | 1705.00 |  NA | 1234.75 |  501.25 | 10.250 | 60.200 | 0.7516572 |\n",
              "| 2004-03-11 | 04:00:00 |  NA | 1011.00 |  1.293620 |  526.75 |  21 | 1817.50 |  34 | 1196.75 |  445.25 | 10.075 | 60.475 | 0.7464945 |\n",
              "| 2004-03-11 | 05:00:00 | 0.7 | 1066.00 |  1.133431 |  512.00 |  16 | 1918.00 |  28 | 1182.00 |  421.75 | 11.000 | 56.175 | 0.7365596 |\n",
              "| 2004-03-11 | 06:00:00 | 0.7 | 1051.75 |  1.603768 |  553.25 |  34 | 1738.25 |  48 | 1221.25 |  471.50 | 10.450 | 58.125 | 0.7352951 |\n",
              "| 2004-03-11 | 07:00:00 | 1.1 | 1144.00 |  3.243618 |  667.00 |  98 | 1489.75 |  82 | 1339.00 |  729.75 | 10.200 | 59.600 | 0.7417362 |\n",
              "| 2004-03-11 | 08:00:00 | 2.0 | 1333.25 |  8.013773 |  899.75 | 174 | 1136.00 | 112 | 1517.00 | 1101.50 | 10.750 | 57.425 | 0.7407946 |\n",
              "| 2004-03-11 | 09:00:00 | 2.2 | 1351.00 |  9.540643 |  960.25 | 129 | 1079.00 | 101 | 1582.75 | 1027.75 | 10.500 | 60.600 | 0.7691108 |\n",
              "| 2004-03-11 | 10:00:00 | 1.7 | 1233.25 |  6.335782 |  827.25 | 112 | 1218.00 |  98 | 1445.75 |  859.75 | 10.800 | 58.350 | 0.7551831 |\n",
              "| 2004-03-11 | 11:00:00 | 1.5 | 1178.75 |  4.971584 |  762.00 |  95 | 1327.50 |  92 | 1361.75 |  670.50 | 10.500 | 57.925 | 0.7351608 |\n",
              "| 2004-03-11 | 12:00:00 | 1.6 | 1236.00 |  5.216919 |  774.25 | 104 | 1301.25 |  95 | 1401.25 |  664.00 |  9.525 | 66.775 | 0.7950538 |\n",
              "| 2004-03-11 | 13:00:00 | 1.9 | 1285.50 |  7.269933 |  868.50 | 146 | 1162.25 | 112 | 1536.75 |  799.00 |  8.300 | 76.425 | 0.8392681 |\n",
              "| 2004-03-11 | 14:00:00 | 2.9 | 1371.00 | 11.539007 | 1033.50 | 207 |  983.25 | 128 | 1730.25 | 1036.50 |  8.000 | 81.150 | 0.8735885 |\n",
              "| 2004-03-11 | 15:00:00 | 2.2 | 1310.00 |  8.826223 |  932.50 | 184 | 1081.75 | 126 | 1646.50 |  946.25 |  8.325 | 79.800 | 0.8777844 |\n",
              "| 2004-03-11 | 16:00:00 | 2.2 | 1291.75 |  8.301413 |  911.50 | 193 | 1102.50 | 131 | 1590.75 |  956.75 |  9.700 | 71.150 | 0.8569381 |\n",
              "| 2004-03-11 | 17:00:00 | 2.9 | 1383.00 | 11.151581 | 1019.75 | 243 | 1008.00 | 135 | 1718.75 | 1104.00 |  9.775 | 67.625 | 0.8185012 |\n",
              "| 2004-03-11 | 18:00:00 | 4.8 | 1580.75 | 20.799217 | 1318.50 | 281 |  798.50 | 151 | 2083.00 | 1408.50 | 10.350 | 64.175 | 0.8065436 |\n",
              "| 2004-03-11 | 19:00:00 | 6.9 | 1775.50 | 27.359807 | 1487.75 | 383 |  702.25 | 172 | 2332.50 | 1704.00 |  9.650 | 69.300 | 0.8319211 |\n",
              "| 2004-03-11 | 20:00:00 | 6.1 | 1640.00 | 24.017757 | 1404.00 | 351 |  742.75 | 165 | 2191.25 | 1653.75 |  9.650 | 67.750 | 0.8133139 |\n",
              "| 2004-03-11 | 21:00:00 | 3.9 | 1312.75 | 12.779368 | 1076.25 | 240 |  957.25 | 136 | 1706.50 | 1284.75 |  9.125 | 63.975 | 0.7419242 |\n",
              "| 2004-03-11 | 22:00:00 | 1.5 |  964.50 |  4.707072 |  748.50 |  94 | 1325.25 |  85 | 1332.50 |  821.00 |  8.175 | 63.400 | 0.6904844 |\n",
              "| 2004-03-11 | 23:00:00 | 1.0 |  912.75 |  2.645722 |  629.25 |  47 | 1564.50 |  53 | 1252.25 |  551.75 |  8.250 | 60.825 | 0.6657444 |\n",
              "| ⋮ | ⋮ | ⋮ | ⋮ | ⋮ | ⋮ | ⋮ | ⋮ | ⋮ | ⋮ | ⋮ | ⋮ | ⋮ | ⋮ |\n",
              "| 2005-04-03 | 09:00:00 | 1.2 | 1022.250 |  4.0820954 |  715.2500 | 191.9 |  806.0000 | 118.0 | 1004.2500 |  830.7500 | 17.825 | 30.675 | 0.6204581 |\n",
              "| 2005-04-03 | 10:00:00 | 1.4 |  970.250 |  3.4021941 |  676.5000 | 166.4 |  887.5000 | 113.2 |  930.5000 |  612.5000 | 21.125 | 23.725 | 0.5875284 |\n",
              "| 2005-04-03 | 11:00:00 | 1.3 |  999.750 |  5.3134016 |  779.0000 | 171.3 |  804.5000 | 115.0 | 1000.7500 |  639.5000 | 24.000 | 19.275 | 0.5672832 |\n",
              "| 2005-04-03 | 12:00:00 | 1.4 |  996.000 |  5.3491377 |  780.7500 | 177.0 |  806.0000 | 123.9 |  985.2500 |  630.7500 | 26.450 | 16.450 | 0.5594143 |\n",
              "| 2005-04-03 | 13:00:00 | 1.0 |  928.000 |  3.8170805 |  700.5000 | 118.7 |  925.7500 |  86.4 |  902.0000 |  455.5000 | 28.675 | 13.700 | 0.5301555 |\n",
              "| 2005-04-03 | 14:00:00 | 1.0 |  932.750 |  4.2012815 |  721.7500 | 120.6 |  898.7500 |  87.0 |  889.5000 |  449.7500 | 28.475 | 13.075 | 0.5001660 |\n",
              "| 2005-04-03 | 15:00:00 | 1.1 |  956.000 |  5.3952341 |  783.0000 | 141.9 |  856.7500 | 100.4 |  895.7500 |  515.7500 | 30.000 | 11.075 | 0.4624361 |\n",
              "| 2005-04-03 | 16:00:00 | 1.3 |  967.500 |  6.3138185 |  826.2500 | 197.3 |  866.5000 | 132.0 |  898.2500 |  548.0000 | 29.425 | 10.375 | 0.4191794 |\n",
              "| 2005-04-03 | 17:00:00 | 1.4 |  952.500 |  6.1013774 |  816.5000 | 241.8 |  871.5000 | 156.3 |  891.0000 |  603.2500 | 28.875 |  9.875 | 0.3865657 |\n",
              "| 2005-04-03 | 18:00:00 | 1.2 | 1014.667 |  4.5946890 |  742.6667 | 190.1 |  850.6667 | 137.9 |  980.6667 |  597.3333 | 22.800 | 21.700 | 0.5944910 |\n",
              "| 2005-04-03 | 19:00:00 | 2.7 | 1248.000 | 11.1096582 | 1018.2500 | 367.4 |  598.7500 | 181.3 | 1289.2500 | 1167.0000 | 19.925 | 33.050 | 0.7607842 |\n",
              "| 2005-04-03 | 20:00:00 | 2.5 | 1180.250 |  7.8685636 |  893.7500 | 355.0 |  636.2500 | 186.8 | 1200.2500 | 1371.7500 | 17.500 | 40.725 | 0.8072809 |\n",
              "| 2005-04-03 | 21:00:00 | 1.5 | 1101.750 |  5.9990053 |  811.7500 | 235.2 |  692.7500 | 157.8 | 1178.0000 | 1042.2500 | 16.450 | 46.550 | 0.8642378 |\n",
              "| 2005-04-03 | 22:00:00 | 1.6 | 1115.500 |  5.8176597 |  803.2500 | 232.7 |  696.2500 | 153.2 | 1173.0000 | 1055.0000 | 15.525 | 48.975 | 0.8579330 |\n",
              "| 2005-04-03 | 23:00:00 | 1.2 | 1099.750 |  5.1061454 |  768.7500 | 170.1 |  721.7500 | 127.6 | 1146.7500 | 1049.0000 | 14.275 | 52.500 | 0.8497265 |\n",
              "| 2005-04-04 | 00:00:00 | 0.9 | 1012.000 |  3.5040055 |  682.5000 | 117.2 |  800.7500 |  93.0 | 1072.5000 |  816.2500 | 14.175 | 51.450 | 0.8274535 |\n",
              "| 2005-04-04 | 01:00:00 | 0.6 |  944.250 |  1.9319317 |  579.0000 |  69.6 |  924.7500 |  58.3 | 1001.7500 |  598.2500 | 13.850 | 51.150 | 0.8057777 |\n",
              "| 2005-04-04 | 02:00:00 | 0.5 |  911.750 |  1.4893234 |  543.7500 |  69.0 |  958.5000 |  54.6 | 1002.0000 |  573.0000 | 12.100 | 56.300 | 0.7927300 |\n",
              "| 2005-04-04 | 03:00:00 | 0.4 |  887.000 |  1.0863655 |  507.5000 |  61.7 | 1046.5000 |  51.3 |  973.5000 |  548.7500 | 11.325 | 58.900 | 0.7887692 |\n",
              "| 2005-04-04 | 04:00:00 |  NA |  864.250 |  0.8015043 |  478.2500 |  52.3 | 1116.0000 |  42.5 |  958.2500 |  488.7500 | 11.825 | 55.975 | 0.7742753 |\n",
              "| 2005-04-04 | 05:00:00 | 0.5 |  888.250 |  1.3076084 |  528.0000 |  76.5 | 1076.5000 |  53.1 |  987.0000 |  577.5000 | 10.400 | 59.875 | 0.7549638 |\n",
              "| 2005-04-04 | 06:00:00 | 1.1 | 1030.500 |  4.3593410 |  730.2500 | 182.2 |  760.0000 |  93.0 | 1129.0000 |  905.0000 |  9.550 | 63.150 | 0.7531292 |\n",
              "| 2005-04-04 | 07:00:00 | 4.0 | 1383.500 | 17.3642398 | 1220.7500 | 593.7 |  470.2500 | 154.6 | 1600.0000 | 1457.2500 |  9.675 | 61.925 | 0.7446082 |\n",
              "| 2005-04-04 | 08:00:00 | 5.0 | 1446.000 | 22.3932328 | 1361.5000 | 586.2 |  414.7500 | 173.6 | 1776.5000 | 1704.5000 | 13.550 | 48.875 | 0.7553375 |\n",
              "| 2005-04-04 | 09:00:00 | 3.9 | 1296.500 | 13.5523933 | 1102.0000 | 522.7 |  506.7500 | 186.5 | 1375.2500 | 1582.5000 | 18.150 | 36.275 | 0.7486522 |\n",
              "| 2005-04-04 | 10:00:00 | 3.1 | 1314.250 | 13.5296047 | 1101.2500 | 471.7 |  538.5000 | 189.8 | 1374.2500 | 1728.5000 | 21.850 | 29.250 | 0.7568244 |\n",
              "| 2005-04-04 | 11:00:00 | 2.4 | 1162.500 | 11.3551574 | 1027.0000 | 353.3 |  603.7500 | 179.2 | 1263.5000 | 1269.0000 | 24.325 | 23.725 | 0.7118637 |\n",
              "| 2005-04-04 | 12:00:00 | 2.4 | 1142.000 | 12.3745384 | 1062.5000 | 293.0 |  603.2500 | 174.7 | 1240.7500 | 1092.0000 | 26.900 | 18.350 | 0.6406488 |\n",
              "| 2005-04-04 | 13:00:00 | 2.1 | 1002.500 |  9.5471867 |  960.5000 | 234.5 |  701.5000 | 155.7 | 1041.0000 |  769.7500 | 28.325 | 13.550 | 0.5138659 |\n",
              "| 2005-04-04 | 14:00:00 | 2.2 | 1070.750 | 11.9320599 | 1047.2500 | 265.2 |  654.0000 | 167.7 | 1128.5000 |  816.0000 | 28.500 | 13.125 | 0.5028037 |\n",
              "\n"
            ],
            "text/plain": [
              "     Date       Time     CO(GT) PT08_S1(CO) C6H6(GT)   PT08_S2(NMHC) NOx(GT)\n",
              "1    2004-03-10 18:00:00 2.6    1360.00     11.881723  1045.50       166    \n",
              "2    2004-03-10 19:00:00 2.0    1292.25      9.397165   954.75       103    \n",
              "3    2004-03-10 20:00:00 2.2    1402.00      8.997817   939.25       131    \n",
              "4    2004-03-10 21:00:00 2.2    1375.50      9.228796   948.25       172    \n",
              "5    2004-03-10 22:00:00 1.6    1272.25      6.518224   835.50       131    \n",
              "6    2004-03-10 23:00:00 1.2    1197.00      4.741012   750.25        89    \n",
              "7    2004-03-11 00:00:00 1.2    1185.00      3.624399   689.50        62    \n",
              "8    2004-03-11 01:00:00 1.0    1136.25      3.326677   672.00        62    \n",
              "9    2004-03-11 02:00:00 0.9    1094.00      2.339416   608.50        45    \n",
              "10   2004-03-11 03:00:00 0.6    1009.75      1.696658   560.75        NA    \n",
              "11   2004-03-11 04:00:00  NA    1011.00      1.293620   526.75        21    \n",
              "12   2004-03-11 05:00:00 0.7    1066.00      1.133431   512.00        16    \n",
              "13   2004-03-11 06:00:00 0.7    1051.75      1.603768   553.25        34    \n",
              "14   2004-03-11 07:00:00 1.1    1144.00      3.243618   667.00        98    \n",
              "15   2004-03-11 08:00:00 2.0    1333.25      8.013773   899.75       174    \n",
              "16   2004-03-11 09:00:00 2.2    1351.00      9.540643   960.25       129    \n",
              "17   2004-03-11 10:00:00 1.7    1233.25      6.335782   827.25       112    \n",
              "18   2004-03-11 11:00:00 1.5    1178.75      4.971584   762.00        95    \n",
              "19   2004-03-11 12:00:00 1.6    1236.00      5.216919   774.25       104    \n",
              "20   2004-03-11 13:00:00 1.9    1285.50      7.269933   868.50       146    \n",
              "21   2004-03-11 14:00:00 2.9    1371.00     11.539007  1033.50       207    \n",
              "22   2004-03-11 15:00:00 2.2    1310.00      8.826223   932.50       184    \n",
              "23   2004-03-11 16:00:00 2.2    1291.75      8.301413   911.50       193    \n",
              "24   2004-03-11 17:00:00 2.9    1383.00     11.151581  1019.75       243    \n",
              "25   2004-03-11 18:00:00 4.8    1580.75     20.799217  1318.50       281    \n",
              "26   2004-03-11 19:00:00 6.9    1775.50     27.359807  1487.75       383    \n",
              "27   2004-03-11 20:00:00 6.1    1640.00     24.017757  1404.00       351    \n",
              "28   2004-03-11 21:00:00 3.9    1312.75     12.779368  1076.25       240    \n",
              "29   2004-03-11 22:00:00 1.5     964.50      4.707072   748.50        94    \n",
              "30   2004-03-11 23:00:00 1.0     912.75      2.645722   629.25        47    \n",
              "⋮    ⋮          ⋮        ⋮      ⋮           ⋮          ⋮             ⋮      \n",
              "9328 2005-04-03 09:00:00 1.2    1022.250     4.0820954  715.2500     191.9  \n",
              "9329 2005-04-03 10:00:00 1.4     970.250     3.4021941  676.5000     166.4  \n",
              "9330 2005-04-03 11:00:00 1.3     999.750     5.3134016  779.0000     171.3  \n",
              "9331 2005-04-03 12:00:00 1.4     996.000     5.3491377  780.7500     177.0  \n",
              "9332 2005-04-03 13:00:00 1.0     928.000     3.8170805  700.5000     118.7  \n",
              "9333 2005-04-03 14:00:00 1.0     932.750     4.2012815  721.7500     120.6  \n",
              "9334 2005-04-03 15:00:00 1.1     956.000     5.3952341  783.0000     141.9  \n",
              "9335 2005-04-03 16:00:00 1.3     967.500     6.3138185  826.2500     197.3  \n",
              "9336 2005-04-03 17:00:00 1.4     952.500     6.1013774  816.5000     241.8  \n",
              "9337 2005-04-03 18:00:00 1.2    1014.667     4.5946890  742.6667     190.1  \n",
              "9338 2005-04-03 19:00:00 2.7    1248.000    11.1096582 1018.2500     367.4  \n",
              "9339 2005-04-03 20:00:00 2.5    1180.250     7.8685636  893.7500     355.0  \n",
              "9340 2005-04-03 21:00:00 1.5    1101.750     5.9990053  811.7500     235.2  \n",
              "9341 2005-04-03 22:00:00 1.6    1115.500     5.8176597  803.2500     232.7  \n",
              "9342 2005-04-03 23:00:00 1.2    1099.750     5.1061454  768.7500     170.1  \n",
              "9343 2005-04-04 00:00:00 0.9    1012.000     3.5040055  682.5000     117.2  \n",
              "9344 2005-04-04 01:00:00 0.6     944.250     1.9319317  579.0000      69.6  \n",
              "9345 2005-04-04 02:00:00 0.5     911.750     1.4893234  543.7500      69.0  \n",
              "9346 2005-04-04 03:00:00 0.4     887.000     1.0863655  507.5000      61.7  \n",
              "9347 2005-04-04 04:00:00  NA     864.250     0.8015043  478.2500      52.3  \n",
              "9348 2005-04-04 05:00:00 0.5     888.250     1.3076084  528.0000      76.5  \n",
              "9349 2005-04-04 06:00:00 1.1    1030.500     4.3593410  730.2500     182.2  \n",
              "9350 2005-04-04 07:00:00 4.0    1383.500    17.3642398 1220.7500     593.7  \n",
              "9351 2005-04-04 08:00:00 5.0    1446.000    22.3932328 1361.5000     586.2  \n",
              "9352 2005-04-04 09:00:00 3.9    1296.500    13.5523933 1102.0000     522.7  \n",
              "9353 2005-04-04 10:00:00 3.1    1314.250    13.5296047 1101.2500     471.7  \n",
              "9354 2005-04-04 11:00:00 2.4    1162.500    11.3551574 1027.0000     353.3  \n",
              "9355 2005-04-04 12:00:00 2.4    1142.000    12.3745384 1062.5000     293.0  \n",
              "9356 2005-04-04 13:00:00 2.1    1002.500     9.5471867  960.5000     234.5  \n",
              "9357 2005-04-04 14:00:00 2.2    1070.750    11.9320599 1047.2500     265.2  \n",
              "     PT08_S3(NOx) NO2(GT) PT08_S4(NO2) PT08_S5(O3) T      RH     AH       \n",
              "1    1056.25      113     1692.00      1267.50     13.600 48.875 0.7577538\n",
              "2    1173.75       92     1558.75       972.25     13.300 47.700 0.7254874\n",
              "3    1140.00      114     1554.50      1074.00     11.900 53.975 0.7502391\n",
              "4    1092.00      122     1583.75      1203.25     11.000 60.000 0.7867125\n",
              "5    1205.00      116     1490.00      1110.00     11.150 59.575 0.7887942\n",
              "6    1336.50       96     1393.00       949.25     11.175 59.175 0.7847717\n",
              "7    1461.75       77     1332.75       732.50     11.325 56.775 0.7603119\n",
              "8    1453.25       76     1332.75       729.50     10.675 60.000 0.7702385\n",
              "9    1579.00       60     1276.00       619.50     10.650 59.675 0.7648187\n",
              "10   1705.00       NA     1234.75       501.25     10.250 60.200 0.7516572\n",
              "11   1817.50       34     1196.75       445.25     10.075 60.475 0.7464945\n",
              "12   1918.00       28     1182.00       421.75     11.000 56.175 0.7365596\n",
              "13   1738.25       48     1221.25       471.50     10.450 58.125 0.7352951\n",
              "14   1489.75       82     1339.00       729.75     10.200 59.600 0.7417362\n",
              "15   1136.00      112     1517.00      1101.50     10.750 57.425 0.7407946\n",
              "16   1079.00      101     1582.75      1027.75     10.500 60.600 0.7691108\n",
              "17   1218.00       98     1445.75       859.75     10.800 58.350 0.7551831\n",
              "18   1327.50       92     1361.75       670.50     10.500 57.925 0.7351608\n",
              "19   1301.25       95     1401.25       664.00      9.525 66.775 0.7950538\n",
              "20   1162.25      112     1536.75       799.00      8.300 76.425 0.8392681\n",
              "21    983.25      128     1730.25      1036.50      8.000 81.150 0.8735885\n",
              "22   1081.75      126     1646.50       946.25      8.325 79.800 0.8777844\n",
              "23   1102.50      131     1590.75       956.75      9.700 71.150 0.8569381\n",
              "24   1008.00      135     1718.75      1104.00      9.775 67.625 0.8185012\n",
              "25    798.50      151     2083.00      1408.50     10.350 64.175 0.8065436\n",
              "26    702.25      172     2332.50      1704.00      9.650 69.300 0.8319211\n",
              "27    742.75      165     2191.25      1653.75      9.650 67.750 0.8133139\n",
              "28    957.25      136     1706.50      1284.75      9.125 63.975 0.7419242\n",
              "29   1325.25       85     1332.50       821.00      8.175 63.400 0.6904844\n",
              "30   1564.50       53     1252.25       551.75      8.250 60.825 0.6657444\n",
              "⋮    ⋮            ⋮       ⋮            ⋮           ⋮      ⋮      ⋮        \n",
              "9328  806.0000    118.0   1004.2500     830.7500   17.825 30.675 0.6204581\n",
              "9329  887.5000    113.2    930.5000     612.5000   21.125 23.725 0.5875284\n",
              "9330  804.5000    115.0   1000.7500     639.5000   24.000 19.275 0.5672832\n",
              "9331  806.0000    123.9    985.2500     630.7500   26.450 16.450 0.5594143\n",
              "9332  925.7500     86.4    902.0000     455.5000   28.675 13.700 0.5301555\n",
              "9333  898.7500     87.0    889.5000     449.7500   28.475 13.075 0.5001660\n",
              "9334  856.7500    100.4    895.7500     515.7500   30.000 11.075 0.4624361\n",
              "9335  866.5000    132.0    898.2500     548.0000   29.425 10.375 0.4191794\n",
              "9336  871.5000    156.3    891.0000     603.2500   28.875  9.875 0.3865657\n",
              "9337  850.6667    137.9    980.6667     597.3333   22.800 21.700 0.5944910\n",
              "9338  598.7500    181.3   1289.2500    1167.0000   19.925 33.050 0.7607842\n",
              "9339  636.2500    186.8   1200.2500    1371.7500   17.500 40.725 0.8072809\n",
              "9340  692.7500    157.8   1178.0000    1042.2500   16.450 46.550 0.8642378\n",
              "9341  696.2500    153.2   1173.0000    1055.0000   15.525 48.975 0.8579330\n",
              "9342  721.7500    127.6   1146.7500    1049.0000   14.275 52.500 0.8497265\n",
              "9343  800.7500     93.0   1072.5000     816.2500   14.175 51.450 0.8274535\n",
              "9344  924.7500     58.3   1001.7500     598.2500   13.850 51.150 0.8057777\n",
              "9345  958.5000     54.6   1002.0000     573.0000   12.100 56.300 0.7927300\n",
              "9346 1046.5000     51.3    973.5000     548.7500   11.325 58.900 0.7887692\n",
              "9347 1116.0000     42.5    958.2500     488.7500   11.825 55.975 0.7742753\n",
              "9348 1076.5000     53.1    987.0000     577.5000   10.400 59.875 0.7549638\n",
              "9349  760.0000     93.0   1129.0000     905.0000    9.550 63.150 0.7531292\n",
              "9350  470.2500    154.6   1600.0000    1457.2500    9.675 61.925 0.7446082\n",
              "9351  414.7500    173.6   1776.5000    1704.5000   13.550 48.875 0.7553375\n",
              "9352  506.7500    186.5   1375.2500    1582.5000   18.150 36.275 0.7486522\n",
              "9353  538.5000    189.8   1374.2500    1728.5000   21.850 29.250 0.7568244\n",
              "9354  603.7500    179.2   1263.5000    1269.0000   24.325 23.725 0.7118637\n",
              "9355  603.2500    174.7   1240.7500    1092.0000   26.900 18.350 0.6406488\n",
              "9356  701.5000    155.7   1041.0000     769.7500   28.325 13.550 0.5138659\n",
              "9357  654.0000    167.7   1128.5000     816.0000   28.500 13.125 0.5028037"
            ]
          },
          "metadata": {},
          "output_type": "display_data"
        }
      ],
      "source": [
        "df$Time <- sub(\"1899-12-31 \", \"\", df$Time)\n",
        "df$Time <- sub(\"1899-12-31\", \"00:00:00\", df$Time)\n",
        "\n",
        "# Replace NA values with \"00:00:00\"\n",
        "df$Time[is.na(df$Time)] <- \"00:00:00\"\n",
        "\n",
        "# Also replace any empty strings with \"00:00:00\"\n",
        "df$Time[df$Time == \"\"] <- \"00:00:00\"\n",
        "\n",
        "df"
      ]
    },
    {
      "cell_type": "code",
      "execution_count": 11,
      "metadata": {
        "colab": {
          "base_uri": "https://localhost:8080/",
          "height": 545
        },
        "id": "1hz9Ug4o_Ftv",
        "outputId": "304d467e-1758-4974-f3e6-881b676ff670",
        "vscode": {
          "languageId": "r"
        }
      },
      "outputs": [
        {
          "name": "stdout",
          "output_type": "stream",
          "text": [
            "Date: 0  \n",
            "Time: 0  \n",
            "CO(GT): 1683  \n",
            "PT08_S1(CO): 366  \n",
            "C6H6(GT): 366  \n",
            "PT08_S2(NMHC): 366  \n",
            "NOx(GT): 1639  \n",
            "PT08_S3(NOx): 366  \n",
            "NO2(GT): 1642  \n",
            "PT08_S4(NO2): 366  \n",
            "PT08_S5(O3): 366  \n",
            "T: 366  \n",
            "RH: 366  \n",
            "AH: 366  \n"
          ]
        },
        {
          "data": {
            "text/html": [
              "<table class=\"dataframe\">\n",
              "<caption>A tibble: 6 × 14</caption>\n",
              "<thead>\n",
              "\t<tr><th scope=col>Date</th><th scope=col>Time</th><th scope=col>CO(GT)</th><th scope=col>PT08_S1(CO)</th><th scope=col>C6H6(GT)</th><th scope=col>PT08_S2(NMHC)</th><th scope=col>NOx(GT)</th><th scope=col>PT08_S3(NOx)</th><th scope=col>NO2(GT)</th><th scope=col>PT08_S4(NO2)</th><th scope=col>PT08_S5(O3)</th><th scope=col>T</th><th scope=col>RH</th><th scope=col>AH</th></tr>\n",
              "\t<tr><th scope=col>&lt;dttm&gt;</th><th scope=col>&lt;chr&gt;</th><th scope=col>&lt;dbl&gt;</th><th scope=col>&lt;dbl&gt;</th><th scope=col>&lt;dbl&gt;</th><th scope=col>&lt;dbl&gt;</th><th scope=col>&lt;dbl&gt;</th><th scope=col>&lt;dbl&gt;</th><th scope=col>&lt;dbl&gt;</th><th scope=col>&lt;dbl&gt;</th><th scope=col>&lt;dbl&gt;</th><th scope=col>&lt;dbl&gt;</th><th scope=col>&lt;dbl&gt;</th><th scope=col>&lt;dbl&gt;</th></tr>\n",
              "</thead>\n",
              "<tbody>\n",
              "\t<tr><td>2004-03-10</td><td>18:00:00</td><td>2.6</td><td>1360.00</td><td>11.881723</td><td>1045.50</td><td>166</td><td>1056.25</td><td>113</td><td>1692.00</td><td>1267.50</td><td>13.600</td><td>48.875</td><td>0.7577538</td></tr>\n",
              "\t<tr><td>2004-03-10</td><td>19:00:00</td><td>2.0</td><td>1292.25</td><td> 9.397165</td><td> 954.75</td><td>103</td><td>1173.75</td><td> 92</td><td>1558.75</td><td> 972.25</td><td>13.300</td><td>47.700</td><td>0.7254874</td></tr>\n",
              "\t<tr><td>2004-03-10</td><td>20:00:00</td><td>2.2</td><td>1402.00</td><td> 8.997817</td><td> 939.25</td><td>131</td><td>1140.00</td><td>114</td><td>1554.50</td><td>1074.00</td><td>11.900</td><td>53.975</td><td>0.7502391</td></tr>\n",
              "\t<tr><td>2004-03-10</td><td>21:00:00</td><td>2.2</td><td>1375.50</td><td> 9.228796</td><td> 948.25</td><td>172</td><td>1092.00</td><td>122</td><td>1583.75</td><td>1203.25</td><td>11.000</td><td>60.000</td><td>0.7867125</td></tr>\n",
              "\t<tr><td>2004-03-10</td><td>22:00:00</td><td>1.6</td><td>1272.25</td><td> 6.518224</td><td> 835.50</td><td>131</td><td>1205.00</td><td>116</td><td>1490.00</td><td>1110.00</td><td>11.150</td><td>59.575</td><td>0.7887942</td></tr>\n",
              "\t<tr><td>2004-03-10</td><td>23:00:00</td><td>1.2</td><td>1197.00</td><td> 4.741012</td><td> 750.25</td><td> 89</td><td>1336.50</td><td> 96</td><td>1393.00</td><td> 949.25</td><td>11.175</td><td>59.175</td><td>0.7847717</td></tr>\n",
              "</tbody>\n",
              "</table>\n"
            ],
            "text/latex": [
              "A tibble: 6 × 14\n",
              "\\begin{tabular}{llllllllllllll}\n",
              " Date & Time & CO(GT) & PT08\\_S1(CO) & C6H6(GT) & PT08\\_S2(NMHC) & NOx(GT) & PT08\\_S3(NOx) & NO2(GT) & PT08\\_S4(NO2) & PT08\\_S5(O3) & T & RH & AH\\\\\n",
              " <dttm> & <chr> & <dbl> & <dbl> & <dbl> & <dbl> & <dbl> & <dbl> & <dbl> & <dbl> & <dbl> & <dbl> & <dbl> & <dbl>\\\\\n",
              "\\hline\n",
              "\t 2004-03-10 & 18:00:00 & 2.6 & 1360.00 & 11.881723 & 1045.50 & 166 & 1056.25 & 113 & 1692.00 & 1267.50 & 13.600 & 48.875 & 0.7577538\\\\\n",
              "\t 2004-03-10 & 19:00:00 & 2.0 & 1292.25 &  9.397165 &  954.75 & 103 & 1173.75 &  92 & 1558.75 &  972.25 & 13.300 & 47.700 & 0.7254874\\\\\n",
              "\t 2004-03-10 & 20:00:00 & 2.2 & 1402.00 &  8.997817 &  939.25 & 131 & 1140.00 & 114 & 1554.50 & 1074.00 & 11.900 & 53.975 & 0.7502391\\\\\n",
              "\t 2004-03-10 & 21:00:00 & 2.2 & 1375.50 &  9.228796 &  948.25 & 172 & 1092.00 & 122 & 1583.75 & 1203.25 & 11.000 & 60.000 & 0.7867125\\\\\n",
              "\t 2004-03-10 & 22:00:00 & 1.6 & 1272.25 &  6.518224 &  835.50 & 131 & 1205.00 & 116 & 1490.00 & 1110.00 & 11.150 & 59.575 & 0.7887942\\\\\n",
              "\t 2004-03-10 & 23:00:00 & 1.2 & 1197.00 &  4.741012 &  750.25 &  89 & 1336.50 &  96 & 1393.00 &  949.25 & 11.175 & 59.175 & 0.7847717\\\\\n",
              "\\end{tabular}\n"
            ],
            "text/markdown": [
              "\n",
              "A tibble: 6 × 14\n",
              "\n",
              "| Date &lt;dttm&gt; | Time &lt;chr&gt; | CO(GT) &lt;dbl&gt; | PT08_S1(CO) &lt;dbl&gt; | C6H6(GT) &lt;dbl&gt; | PT08_S2(NMHC) &lt;dbl&gt; | NOx(GT) &lt;dbl&gt; | PT08_S3(NOx) &lt;dbl&gt; | NO2(GT) &lt;dbl&gt; | PT08_S4(NO2) &lt;dbl&gt; | PT08_S5(O3) &lt;dbl&gt; | T &lt;dbl&gt; | RH &lt;dbl&gt; | AH &lt;dbl&gt; |\n",
              "|---|---|---|---|---|---|---|---|---|---|---|---|---|---|\n",
              "| 2004-03-10 | 18:00:00 | 2.6 | 1360.00 | 11.881723 | 1045.50 | 166 | 1056.25 | 113 | 1692.00 | 1267.50 | 13.600 | 48.875 | 0.7577538 |\n",
              "| 2004-03-10 | 19:00:00 | 2.0 | 1292.25 |  9.397165 |  954.75 | 103 | 1173.75 |  92 | 1558.75 |  972.25 | 13.300 | 47.700 | 0.7254874 |\n",
              "| 2004-03-10 | 20:00:00 | 2.2 | 1402.00 |  8.997817 |  939.25 | 131 | 1140.00 | 114 | 1554.50 | 1074.00 | 11.900 | 53.975 | 0.7502391 |\n",
              "| 2004-03-10 | 21:00:00 | 2.2 | 1375.50 |  9.228796 |  948.25 | 172 | 1092.00 | 122 | 1583.75 | 1203.25 | 11.000 | 60.000 | 0.7867125 |\n",
              "| 2004-03-10 | 22:00:00 | 1.6 | 1272.25 |  6.518224 |  835.50 | 131 | 1205.00 | 116 | 1490.00 | 1110.00 | 11.150 | 59.575 | 0.7887942 |\n",
              "| 2004-03-10 | 23:00:00 | 1.2 | 1197.00 |  4.741012 |  750.25 |  89 | 1336.50 |  96 | 1393.00 |  949.25 | 11.175 | 59.175 | 0.7847717 |\n",
              "\n"
            ],
            "text/plain": [
              "  Date       Time     CO(GT) PT08_S1(CO) C6H6(GT)  PT08_S2(NMHC) NOx(GT)\n",
              "1 2004-03-10 18:00:00 2.6    1360.00     11.881723 1045.50       166    \n",
              "2 2004-03-10 19:00:00 2.0    1292.25      9.397165  954.75       103    \n",
              "3 2004-03-10 20:00:00 2.2    1402.00      8.997817  939.25       131    \n",
              "4 2004-03-10 21:00:00 2.2    1375.50      9.228796  948.25       172    \n",
              "5 2004-03-10 22:00:00 1.6    1272.25      6.518224  835.50       131    \n",
              "6 2004-03-10 23:00:00 1.2    1197.00      4.741012  750.25        89    \n",
              "  PT08_S3(NOx) NO2(GT) PT08_S4(NO2) PT08_S5(O3) T      RH     AH       \n",
              "1 1056.25      113     1692.00      1267.50     13.600 48.875 0.7577538\n",
              "2 1173.75       92     1558.75       972.25     13.300 47.700 0.7254874\n",
              "3 1140.00      114     1554.50      1074.00     11.900 53.975 0.7502391\n",
              "4 1092.00      122     1583.75      1203.25     11.000 60.000 0.7867125\n",
              "5 1205.00      116     1490.00      1110.00     11.150 59.575 0.7887942\n",
              "6 1336.50       96     1393.00       949.25     11.175 59.175 0.7847717"
            ]
          },
          "metadata": {},
          "output_type": "display_data"
        }
      ],
      "source": [
        "print_missing_counts(df)\n",
        "head(df)"
      ]
    },
    {
      "cell_type": "code",
      "execution_count": 12,
      "metadata": {
        "id": "PqR27FJg_hL2",
        "vscode": {
          "languageId": "r"
        }
      },
      "outputs": [],
      "source": [
        "write.csv(df, \"AirQualityUCI_Missing_Values_Present_Time.csv\", row.names = FALSE)"
      ]
    },
    {
      "cell_type": "code",
      "execution_count": 13,
      "metadata": {
        "colab": {
          "base_uri": "https://localhost:8080/"
        },
        "id": "CyE_F6RC_j9a",
        "outputId": "f4ad2dd8-b1df-4737-952c-3493c6a89702",
        "vscode": {
          "languageId": "r"
        }
      },
      "outputs": [
        {
          "name": "stdout",
          "output_type": "stream",
          "text": [
            "Date: 0  \n",
            "Time: 0  \n",
            "CO(GT): 1683  \n",
            "PT08_S1(CO): 366  \n",
            "C6H6(GT): 366  \n",
            "PT08_S2(NMHC): 366  \n",
            "NOx(GT): 1639  \n",
            "PT08_S3(NOx): 366  \n",
            "NO2(GT): 1642  \n",
            "PT08_S4(NO2): 366  \n",
            "PT08_S5(O3): 366  \n",
            "T: 366  \n",
            "RH: 366  \n",
            "AH: 366  \n"
          ]
        }
      ],
      "source": [
        "print_missing_counts(df)"
      ]
    },
    {
      "cell_type": "code",
      "execution_count": 14,
      "metadata": {
        "id": "2tr0OGu9_mYb",
        "vscode": {
          "languageId": "r"
        }
      },
      "outputs": [],
      "source": [
        "# Define file paths\n",
        "input_file <- \"AirQualityUCI_Missing_Values_Present_Time.csv\"\n",
        "output_file <- \"AirQualityUCI_Interpolated.csv\"\n",
        "\n",
        "# Load the dataset\n",
        "data <- read.csv(input_file, stringsAsFactors = FALSE)"
      ]
    },
    {
      "cell_type": "code",
      "execution_count": 15,
      "metadata": {
        "colab": {
          "base_uri": "https://localhost:8080/"
        },
        "id": "b3TuBoTc_oPo",
        "outputId": "c559fc83-65f3-4105-ff9a-2121b064f5cb",
        "vscode": {
          "languageId": "r"
        }
      },
      "outputs": [
        {
          "name": "stdout",
          "output_type": "stream",
          "text": [
            "Date: 0  \n",
            "Time: 0  \n",
            "CO_GT: 1683  \n",
            "PT08_S1_CO: 366  \n",
            "C6H6_GT: 366  \n",
            "PT08_S2_NMHC: 366  \n",
            "NOx_GT: 1639  \n",
            "PT08_S3_NOx: 366  \n",
            "NO2_GT: 1642  \n",
            "PT08_S4_NO2: 366  \n",
            "PT08_S5_O3: 366  \n",
            "T: 366  \n",
            "RH: 366  \n",
            "AH: 366  \n"
          ]
        },
        {
          "name": "stderr",
          "output_type": "stream",
          "text": [
            "Warning message:\n",
            "“\u001b[1m\u001b[22mThere were 12 warnings in `mutate()`.\n",
            "The first warning was:\n",
            "\u001b[1m\u001b[22m\u001b[36mℹ\u001b[39m In argument: `across(where(is.numeric), ~na.interpolation(.))`.\n",
            "Caused by warning in `na.interpolation()`:\n",
            "\u001b[33m!\u001b[39m na.interpolation will be replaced by na_interpolation.\n",
            "           Functionality stays the same.\n",
            "           The new function name better fits modern R code style guidelines.\n",
            "           Please adjust your code accordingly.\n",
            "\u001b[1m\u001b[22m\u001b[36mℹ\u001b[39m Run `dplyr::last_dplyr_warnings()` to see the 11 remaining warnings.”\n"
          ]
        },
        {
          "name": "stdout",
          "output_type": "stream",
          "text": [
            "[1] \"Interpolated dataset saved at: AirQualityUCI_Interpolated.csv\"\n"
          ]
        }
      ],
      "source": [
        "# Function to clean column names\n",
        "clean_col_names <- function(col_names) {\n",
        "  col_names <- gsub(\"\\\\.$\", \"\", col_names)  # Remove trailing dots\n",
        "  col_names <- gsub(\"\\\\.\", \"_\", col_names)  # Replace middle dots with underscores\n",
        "  return(col_names)\n",
        "}\n",
        "\n",
        "# Apply function to column names\n",
        "colnames(data) <- clean_col_names(colnames(data))\n",
        "\n",
        "# Check for missing values\n",
        "print_missing_counts(data)\n",
        "\n",
        "# Apply interpolation for missing values (numeric columns only)\n",
        "data_interp <- data %>%\n",
        "  mutate(across(where(is.numeric), ~ na.interpolation(.)))\n",
        "\n",
        "\n",
        "# Save the cleaned dataset\n",
        "write.csv(data_interp, output_file, row.names = FALSE)\n",
        "\n",
        "print(paste(\"Interpolated dataset saved at:\", output_file))"
      ]
    },
    {
      "cell_type": "code",
      "execution_count": 16,
      "metadata": {
        "colab": {
          "base_uri": "https://localhost:8080/",
          "height": 437
        },
        "id": "ugQRupUD_qXq",
        "outputId": "1b4cf643-b40b-48fa-b180-51bde206f1b0",
        "vscode": {
          "languageId": "r"
        }
      },
      "outputs": [
        {
          "data": {
            "image/png": "[encoded data removed]",
            "text/plain": [
              "plot without title"
            ]
          },
          "metadata": {
            "image/png": {
              "height": 420,
              "width": 420
            }
          },
          "output_type": "display_data"
        }
      ],
      "source": [
        "data <- read.csv(\"AirQualityUCI_Interpolated.csv\", stringsAsFactors = FALSE)\n",
        "# Select only numeric columns for outlier detection\n",
        "numeric_data <- data %>% select(where(is.numeric))\n",
        "\n",
        "# Reshape data for plotting (long format)\n",
        "long_data <- pivot_longer(numeric_data, cols = everything(), names_to = \"Variable\", values_to = \"Value\")\n",
        "\n",
        "# Create boxplots for each variable\n",
        "ggplot(long_data, aes(x = Variable, y = Value)) +\n",
        "  geom_boxplot(outlier.colour = \"red\", fill = \"lightblue\") +\n",
        "  theme_minimal() +\n",
        "  labs(title = \"Boxplots to Identify Outliers\", x = \"Variable\", y = \"Value\") +\n",
        "  theme(axis.text.x = element_text(angle = 45, hjust = 1))"
      ]
    },
    {
      "cell_type": "code",
      "execution_count": 17,
      "metadata": {
        "colab": {
          "base_uri": "https://localhost:8080/",
          "height": 70
        },
        "id": "3G9OY7Im_t6x",
        "outputId": "0d5350ec-356e-4354-95a6-de00774d2324",
        "vscode": {
          "languageId": "r"
        }
      },
      "outputs": [
        {
          "data": {
            "text/html": [
              "<style>\n",
              ".list-inline {list-style: none; margin:0; padding: 0}\n",
              ".list-inline>li {display: inline-block}\n",
              ".list-inline>li:not(:last-child)::after {content: \"\\00b7\"; padding: 0 .5ex}\n",
              "</style>\n",
              "<ol class=list-inline><li>9357</li><li>14</li></ol>\n"
            ],
            "text/latex": [
              "\\begin{enumerate*}\n",
              "\\item 9357\n",
              "\\item 14\n",
              "\\end{enumerate*}\n"
            ],
            "text/markdown": [
              "1. 9357\n",
              "2. 14\n",
              "\n",
              "\n"
            ],
            "text/plain": [
              "[1] 9357   14"
            ]
          },
          "metadata": {},
          "output_type": "display_data"
        },
        {
          "data": {
            "text/html": [
              "<style>\n",
              ".list-inline {list-style: none; margin:0; padding: 0}\n",
              ".list-inline>li {display: inline-block}\n",
              ".list-inline>li:not(:last-child)::after {content: \"\\00b7\"; padding: 0 .5ex}\n",
              "</style>\n",
              "<ol class=list-inline><li>8415</li><li>14</li></ol>\n"
            ],
            "text/latex": [
              "\\begin{enumerate*}\n",
              "\\item 8415\n",
              "\\item 14\n",
              "\\end{enumerate*}\n"
            ],
            "text/markdown": [
              "1. 8415\n",
              "2. 14\n",
              "\n",
              "\n"
            ],
            "text/plain": [
              "[1] 8415   14"
            ]
          },
          "metadata": {},
          "output_type": "display_data"
        },
        {
          "name": "stdout",
          "output_type": "stream",
          "text": [
            "Total Outliers Removed:  942 Outliers removed successfully and file saved.\n"
          ]
        }
      ],
      "source": [
        "dim(data)\n",
        "remove_outliers_singlepass <- function(df) {\n",
        "  outlier_mask <- rep(FALSE, nrow(df))  # Start with no rows flagged as outliers\n",
        "\n",
        "  for (col in names(df)) {\n",
        "    if (is.numeric(df[[col]])) {\n",
        "      Q1 <- quantile(df[[col]], 0.25, na.rm = TRUE)\n",
        "      Q3 <- quantile(df[[col]], 0.75, na.rm = TRUE)\n",
        "      IQR <- Q3 - Q1\n",
        "      lower <- Q1 - 1.5 * IQR\n",
        "      upper <- Q3 + 1.5 * IQR\n",
        "\n",
        "      # Flag rows that are outliers in this column\n",
        "      col_outliers <- df[[col]] < lower | df[[col]] > upper\n",
        "      outlier_mask <- outlier_mask | col_outliers  # combine with OR\n",
        "    }\n",
        "  }\n",
        "\n",
        "  # Remove all rows with any outlier\n",
        "  df_clean <- df[!outlier_mask, ]\n",
        "  return(df_clean)\n",
        "}\n",
        "\n",
        "data_no_outliers <- remove_outliers_singlepass(data)\n",
        "dim(data_no_outliers)\n",
        "\n",
        "cat(\"Total Outliers Removed: \", nrow(data) - nrow(data_no_outliers))\n",
        "\n",
        "# Save cleaned data\n",
        "write.csv(data_no_outliers, \"AirQualityUCI_No_Outliers_2.csv\", row.names = FALSE)\n",
        "\n",
        "cat(\" Outliers removed successfully and file saved.\\n\")"
      ]
    },
    {
      "cell_type": "code",
      "execution_count": 18,
      "metadata": {
        "colab": {
          "base_uri": "https://localhost:8080/",
          "height": 437
        },
        "id": "abYnOeSi_1IA",
        "outputId": "c75147b0-4b78-4773-afe3-be0b63d5fb26",
        "vscode": {
          "languageId": "r"
        }
      },
      "outputs": [
        {
          "data": {
            "image/png": "[encoded data removed]",
            "text/plain": [
              "plot without title"
            ]
          },
          "metadata": {
            "image/png": {
              "height": 420,
              "width": 420
            }
          },
          "output_type": "display_data"
        }
      ],
      "source": [
        "numeric_data <- data_no_outliers %>% select(where(is.numeric))\n",
        "\n",
        "# Reshape data for plotting (long format)\n",
        "long_data <- pivot_longer(numeric_data, cols = everything(), names_to = \"Variable\", values_to = \"Value\")\n",
        "\n",
        "# Create boxplots for each variable\n",
        "ggplot(long_data, aes(x = Variable, y = Value)) +\n",
        "  geom_boxplot(outlier.colour = \"red\", fill = \"lightblue\") +\n",
        "  theme_minimal() +\n",
        "  labs(title = \"Boxplots After removing extreme Outliers\", x = \"Variable\", y = \"Value\") +\n",
        "  theme(axis.text.x = element_text(angle = 45, hjust = 1))"
      ]
    },
    {
      "cell_type": "code",
      "execution_count": 20,
      "metadata": {
        "colab": {
          "base_uri": "https://localhost:8080/"
        },
        "id": "yiUv_S1E_4op",
        "outputId": "40ccf8d5-7dbf-4c4f-c7e8-86cc03165159",
        "vscode": {
          "languageId": "r"
        }
      },
      "outputs": [
        {
          "name": "stdout",
          "output_type": "stream",
          "text": [
            " Dataset normalized (features only) with CO(GT) as target. Saved successfully.\n"
          ]
        }
      ],
      "source": [
        "data_no_outliers <- read.csv(\"AirQualityUCI_No_Outliers_2.csv\")\n",
        "# Identify columns to exclude: Date, Time, and target (CO(GT))\n",
        "exclude_cols <- c(\"Date\", \"Time\", \"CO_GT\")\n",
        "\n",
        "# Create a copy of data to hold the normalized version\n",
        "data_normalized <- data_no_outliers\n",
        "\n",
        "# Normalize only numeric predictor columns (excluding CO(GT))\n",
        "cols_to_normalize <- setdiff(names(data_no_outliers), exclude_cols)\n",
        "\n",
        "# Apply Z-score normalization\n",
        "data_normalized[cols_to_normalize] <- data_no_outliers %>%\n",
        "  select(all_of(cols_to_normalize)) %>%\n",
        "  mutate(across(where(is.numeric), scale))\n",
        "\n",
        "# Save the normalized dataset\n",
        "write.csv(data_normalized, \"AirQualityUCI_Normalized_CO_Target.csv\", row.names = FALSE)\n",
        "\n",
        "cat(\" Dataset normalized (features only) with CO(GT) as target. Saved successfully.\\n\")"
      ]
    },
    {
      "cell_type": "code",
      "execution_count": null,
      "metadata": {
        "id": "g8vHMuAb_7YG",
        "vscode": {
          "languageId": "r"
        }
      },
      "outputs": [],
      "source": []
    }
  ],
  "metadata": {
    "colab": {
      "provenance": []
    },
    "kernelspec": {
      "display_name": "R",
      "name": "ir"
    },
    "language_info": {
      "name": "R"
    }
  },
  "nbformat": 4,
  "nbformat_minor": 0
}
